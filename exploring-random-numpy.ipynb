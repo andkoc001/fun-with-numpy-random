{
 "cells": [
  {
   "cell_type": "markdown",
   "metadata": {},
   "source": [
    "# Fun with numpy.random\n",
    "Exploring numpy.random library as assignment for Programming for Data Analysis, GMIT 2019\n",
    "\n",
    "Lecturer: dr Brian McGinley\n",
    "\n",
    ">Author: **Andrzej Kocielski**  \n",
    ">Github: [andkoc001](https://github.com/andkoc001/)  \n",
    ">Email: G00376291@gmit.ie, and.koc001@gmail.com\n",
    "\n",
    "Created: 11-10-2019\n",
    "\n",
    "This Notebook should be read in conjunction with the corresponding README.md file at the assignment repository at GitHub: <https://github.com/andkoc001/fun-with-numpy-random/>."
   ]
  },
  {
   "cell_type": "markdown",
   "metadata": {},
   "source": [
    "___\n",
    "\n",
    "## Introduction\n",
    "\n",
    "NumPy (Numerical Python) is a library of external methods to Python, dedicated to numerical computing. One of its capabilities is pseudo-random number generator - a  random sampling package - `numpy.random`. The package can be divided into four sections (as per [NumPy documentation](https://docs.scipy.org/doc/numpy-1.16.0/reference/routines.random.html)):\n",
    "1. Simple random data,\n",
    "2. Permutations,\n",
    "3. Distributions,\n",
    "4. Random generator.\n",
    "\n",
    "Below we will take a closer look at each of these sections.\n",
    "\n",
    "Note: In this Notebook terms 'function', 'method', 'routine' and 'subroutine' are used interchangeably."
   ]
  },
  {
   "cell_type": "markdown",
   "metadata": {},
   "source": [
    "### Setting up the scene\n",
    "\n",
    "Importing numpy.random library and version check."
   ]
  },
  {
   "cell_type": "code",
   "execution_count": 1,
   "metadata": {},
   "outputs": [],
   "source": [
    "import numpy as np # NumPy package\n",
    "import matplotlib.pyplot as plt # plotting engine\n",
    "# below command will allow for the plots being displayed inside the Notebook, rather than in a separate screen.\n",
    "%matplotlib inline"
   ]
  },
  {
   "cell_type": "code",
   "execution_count": 2,
   "metadata": {},
   "outputs": [
    {
     "data": {
      "text/plain": [
       "'1.17.2'"
      ]
     },
     "execution_count": 2,
     "metadata": {},
     "output_type": "execute_result"
    }
   ],
   "source": [
    "np.version.version # NumPy version check"
   ]
  },
  {
   "cell_type": "markdown",
   "metadata": {},
   "source": [
    "A built-in help is available, accessible through the following commands:  \n",
    "`dir()` prints out available functionalities of the parsed method  \n",
    "`help()` shows doc-string of the parsed method"
   ]
  },
  {
   "cell_type": "code",
   "execution_count": 3,
   "metadata": {},
   "outputs": [],
   "source": [
    "# dir(np.random) # commented out for clarity"
   ]
  },
  {
   "cell_type": "code",
   "execution_count": 4,
   "metadata": {},
   "outputs": [],
   "source": [
    "# help(np.random.randint) # commented out for clarity"
   ]
  },
  {
   "cell_type": "markdown",
   "metadata": {},
   "source": [
    "___\n",
    "## Simple random data"
   ]
  },
  {
   "cell_type": "markdown",
   "metadata": {},
   "source": [
    "NumPy library comes with a large numbers of built-in functionalities, in the library documentation referred as to routines. Random sampling (`numpy.random`) is an example of such a subroutine. "
   ]
  },
  {
   "cell_type": "markdown",
   "metadata": {},
   "source": [
    "**Simple random data** is a collection of methods used for two categories of application:  \n",
    "1) generating of a pseudo random number from a range,  \n",
    "2) random selection of an object from a list.\n",
    "\n",
    "In the first category, there are several methods, producing different outputs. For instance, the `np.random.random()` generates float numbers from half-open range [0,1), whereas `np.random.randint()` generates integer numbers from a range.\n",
    "\n",
    "The second category, offers the functionality of random picking of objects from an existing list. \n",
    "\n",
    "Below we will see example use of a few methods from the Simple random data."
   ]
  },
  {
   "cell_type": "markdown",
   "metadata": {},
   "source": [
    "### Function random.random\n",
    "This method returns random float number(s) from _uniform distribution_ on [0,1), i.e. from 0 (inclusive) to 1 (exclusive)"
   ]
  },
  {
   "cell_type": "code",
   "execution_count": 5,
   "metadata": {},
   "outputs": [
    {
     "data": {
      "text/plain": [
       "0.08248792549299988"
      ]
     },
     "execution_count": 5,
     "metadata": {},
     "output_type": "execute_result"
    }
   ],
   "source": [
    "# get a random float number from *uniform distributtion* on [0,1), i.e. from 0 (inclusive) to 1 (exclusive)\n",
    "np.random.random()"
   ]
  },
  {
   "cell_type": "code",
   "execution_count": 6,
   "metadata": {},
   "outputs": [
    {
     "name": "stdout",
     "output_type": "stream",
     "text": [
      "1 : 0.7875788910566937, 2 : 0.912719862900537, 3 : 0.49009229698043566, 4 : 0.3526622151978307, 5 : 0.5664508412913246, \n",
      "Mean: 0.6219008214853643\n"
     ]
    }
   ],
   "source": [
    "# get 5 random numbers from [0,1) and print out avarage of them\n",
    "sum = 0\n",
    "for i in range(5):\n",
    "    x = np.random.random()\n",
    "    sum = sum + x\n",
    "    print(i+1,\":\",x, end=\", \")\n",
    "print(\"\\nMean:\",sum/5)"
   ]
  },
  {
   "cell_type": "code",
   "execution_count": 7,
   "metadata": {},
   "outputs": [
    {
     "data": {
      "text/plain": [
       "array([[0.39321942, 0.93812919, 0.5835311 ],\n",
       "       [0.57093064, 0.07055335, 0.47005842]])"
      ]
     },
     "execution_count": 7,
     "metadata": {},
     "output_type": "execute_result"
    }
   ],
   "source": [
    "# get a n-dimensional array (ndarray) of random numbers on [0,1); when no value is parsed, it returns a simple float number\n",
    "np.random.random((2,3)) # double brackets, because this method takes a single value only - in this case a tuple"
   ]
  },
  {
   "cell_type": "markdown",
   "metadata": {},
   "source": [
    "### Function random.randn  \n",
    "\n",
    "This method generates a n-dimensional array of numbers from the _standard normal distribution_."
   ]
  },
  {
   "cell_type": "code",
   "execution_count": 8,
   "metadata": {},
   "outputs": [
    {
     "data": {
      "text/plain": [
       "array([[-0.77979843,  0.46032034, -0.22705023, -0.40861344],\n",
       "       [-0.94165417,  0.27891154,  0.28148201,  1.09428489]])"
      ]
     },
     "execution_count": 8,
     "metadata": {},
     "output_type": "execute_result"
    }
   ],
   "source": [
    "np.random.randn(2, 4)"
   ]
  },
  {
   "cell_type": "markdown",
   "metadata": {},
   "source": [
    "The probability of a random number occurring far from the centreline decreases rapidly, but never becomes impossible (p=0).\n",
    "\n",
    "It may be convenient to compare the the results generated by both `random` and `randn` subroutines visualised on a single plot. In the below plot the results are spread randomly - using both uniform (`random`) and normal (`randn`) distributions around the horizontal baseline. Note that the uniform distribution is offset by 0.5 to match the normal distribution. The uniform distribution results are is limited by +-0.5 from the baseline and there is equal probability of occurring in this range. The normal distribution values are not limited, but the occurance probabiliy decreases the farther away from the baseline."
   ]
  },
  {
   "cell_type": "code",
   "execution_count": 47,
   "metadata": {},
   "outputs": [
    {
     "name": "stderr",
     "output_type": "stream",
     "text": [
      "/home/ak/anaconda3/lib/python3.7/site-packages/ipykernel_launcher.py:5: RuntimeWarning: invalid value encountered in true_divide\n",
      "  \"\"\"\n"
     ]
    },
    {
     "data": {
      "text/plain": [
       "<matplotlib.legend.Legend at 0x7fba6dc01710>"
      ]
     },
     "execution_count": 47,
     "metadata": {},
     "output_type": "execute_result"
    },
    {
     "data": {
      "image/png": "[encoded data removed]",
      "text/plain": [
       "<Figure size 432x288 with 1 Axes>"
      ]
     },
     "metadata": {
      "needs_background": "light"
     },
     "output_type": "display_data"
    }
   ],
   "source": [
    "# Plotting random distribution vs normal distribution.\n",
    "x = np.arange(0.0, 101, 1) # set range of x values for plotting\n",
    "\n",
    "# horizontal lines\n",
    "y = x/x # constant horizontal line against x - will be used as a baseline for showing random noise\n",
    "plt.plot(x, y, 'k-', label='baseline') # baseline for uniform distribution noise\n",
    "\n",
    "# random data points\n",
    "noise_uniform = np.random.random(size=(len(x)))-0.5 # random (uniform) noise in on (0,1] and offset by0.5 in order to centralise about the base line, at y=1\n",
    "noise_normal = np.random.normal(0.0, 0.5, len(x)) # normal distribution of noise\n",
    "\n",
    "# Uniform distribution\n",
    "plt.plot(x, y + noise_uniform, 'cx', label='uniform') # green x-es denote random noise value for each sample\n",
    "\n",
    "# Normal distribution\n",
    "plt.plot(x, y2 + noise_normal, 'mx', label='normal') # blue x-es denote normal noise value for each sample\n",
    "\n",
    "plt.legend()"
   ]
  },
  {
   "cell_type": "markdown",
   "metadata": {},
   "source": [
    "### Funtion random.randint  \n",
    "\n",
    "This method generates integer number(s) in a given range. The provided range is again half-open (left-sided inclusive, right-sided exclusive). The size parameter tells NumPy how many observations are to be generated, and can be organised in a multi-dimensional array."
   ]
  },
  {
   "cell_type": "code",
   "execution_count": 51,
   "metadata": {},
   "outputs": [
    {
     "data": {
      "text/plain": [
       "array([5, 5, 1, 8, 8])"
      ]
     },
     "execution_count": 51,
     "metadata": {},
     "output_type": "execute_result"
    }
   ],
   "source": [
    "np.random.randint(1,11, size=5) # 5 random integers in range between 1 and 10 inclusive"
   ]
  },
  {
   "cell_type": "markdown",
   "metadata": {},
   "source": [
    "### Function random.choice  \n",
    " \n",
    "In the second category of subroutines of _simple random data_, picks items from a pre-defined set of the objects. \n",
    " \n",
    "The `random.choice` method returns objects, which does not necessarily have to be numbers, from an existing list or array. It is possible for the objects to be selected more than once."
   ]
  },
  {
   "cell_type": "code",
   "execution_count": 58,
   "metadata": {},
   "outputs": [
    {
     "data": {
      "text/plain": [
       "array([['rat', 'rat', 'rat', 'dog', 'snake', 'dog', 'dog'],\n",
       "       ['cat', 'cat', 'snake', 'dog', 'cat', 'snake', 'snake']],\n",
       "      dtype='<U5')"
      ]
     },
     "execution_count": 58,
     "metadata": {},
     "output_type": "execute_result"
    }
   ],
   "source": [
    "list_1 = [\"dog\", \"cat\", \"snake\", \"rat\"] # predefinition of list of objects\n",
    "\n",
    "np.random.choice(list_1, size=[2,7]) # random selection of objects from the list, arranged into 2x7 array; some results will appear more than once"
   ]
  },
  {
   "cell_type": "markdown",
   "metadata": {},
   "source": [
    "It is also possible to assign a probability for each option:"
   ]
  },
  {
   "cell_type": "code",
   "execution_count": 59,
   "metadata": {},
   "outputs": [
    {
     "data": {
      "text/plain": [
       "array(['rat', 'rat', 'snake', 'rat', 'rat', 'rat', 'rat', 'rat', 'rat',\n",
       "       'rat'], dtype='<U5')"
      ]
     },
     "execution_count": 59,
     "metadata": {},
     "output_type": "execute_result"
    }
   ],
   "source": [
    "np.random.choice(list_1, p=[0.1, 0.1, 0.1, 0.7], size=10)"
   ]
  },
  {
   "cell_type": "markdown",
   "metadata": {},
   "source": [
    "### Function random.bytes  \n",
    "\n",
    "Returns random bytes in hexadecimal format. For example:"
   ]
  },
  {
   "cell_type": "code",
   "execution_count": 13,
   "metadata": {},
   "outputs": [
    {
     "data": {
      "text/plain": [
       "b'\\xad'"
      ]
     },
     "execution_count": 13,
     "metadata": {},
     "output_type": "execute_result"
    }
   ],
   "source": [
    "np.random.bytes(1)"
   ]
  },
  {
   "cell_type": "markdown",
   "metadata": {},
   "source": [
    "___\n",
    "## Permutations"
   ]
  },
  {
   "cell_type": "markdown",
   "metadata": {},
   "source": [
    "This group of methods in NumPy and allow to randomly reorder the objects in the set or in sub-set (range). It consists of two subroutines: `shuffle` and `permutation`."
   ]
  },
  {
   "cell_type": "markdown",
   "metadata": {},
   "source": [
    "### Function random.shuffle  \n",
    "\n",
    "`np.random.shuffle` method randomly reorders the items of the entire set _in place_, that is original order is overwritten with the new sequence."
   ]
  },
  {
   "cell_type": "code",
   "execution_count": 14,
   "metadata": {},
   "outputs": [
    {
     "name": "stdout",
     "output_type": "stream",
     "text": [
      "[1, 2, 3, 4, 5]\n"
     ]
    },
    {
     "data": {
      "text/plain": [
       "[4, 3, 2, 1, 5]"
      ]
     },
     "execution_count": 14,
     "metadata": {},
     "output_type": "execute_result"
    }
   ],
   "source": [
    "list = [1,2,3,4,5]\n",
    "print(list) # in original order\n",
    "np.random.shuffle(list)\n",
    "list # in new order, overwriting the original"
   ]
  },
  {
   "cell_type": "markdown",
   "metadata": {},
   "source": [
    "### Function random.permutation\n",
    "`np.random.permutation` method returns a new array (copy of the original) of the objects from a list, randomly ordered. The output will contain all the objects from the original array, and will appear precisely in the same quantities as in the orignal set."
   ]
  },
  {
   "cell_type": "code",
   "execution_count": 63,
   "metadata": {},
   "outputs": [
    {
     "data": {
      "text/plain": [
       "array([4, 3, 2, 1, 4, 4])"
      ]
     },
     "execution_count": 63,
     "metadata": {},
     "output_type": "execute_result"
    }
   ],
   "source": [
    "list_2 = [1,2,3,4,4,4] # list of numbers, note number '4' appears three times here\n",
    "np.random.permutation(list_2)"
   ]
  },
  {
   "cell_type": "markdown",
   "metadata": {},
   "source": [
    "It is worth noting that `np.random.permutation` is built up on `np.random.shuffle` subroutine, which is used in the former source code. Extra functionality is provided on condition an array is parsed. Other wise, when an integer is parsed, it behaves as ordinary `shuffle` function."
   ]
  },
  {
   "cell_type": "markdown",
   "metadata": {},
   "source": [
    "___\n",
    "## Distributions"
   ]
  },
  {
   "cell_type": "markdown",
   "metadata": {},
   "source": [
    "NumPy comes with a selection of built-in probability density distributions, which are used to sample random data in a specific pattern from statistical science.\n",
    "In NumPy v1.17.2, there are thirty-five different distributions available. Below we will discuss five of them, namely: uniform, standard_normal, binomial, exponential, weibull."
   ]
  },
  {
   "cell_type": "markdown",
   "metadata": {},
   "source": [
    "### 1. Uniform distribution  "
   ]
  },
  {
   "cell_type": "markdown",
   "metadata": {},
   "source": [
    "`numpy.random.uniform` function generates random floating point number(s). Each random value returned from this method is equally probable to occur. The generated numbers are from half-open range - ends defined when the function is called. If the range is not defined, by default it is assumed to be [0,1), in which case the subroutine behaves the same as np.random.random one."
   ]
  },
  {
   "cell_type": "code",
   "execution_count": 16,
   "metadata": {},
   "outputs": [
    {
     "data": {
      "text/plain": [
       "array([0.84646149, 0.85326589, 0.21479299])"
      ]
     },
     "execution_count": 16,
     "metadata": {},
     "output_type": "execute_result"
    }
   ],
   "source": [
    "np.random.uniform(size=3)"
   ]
  },
  {
   "cell_type": "code",
   "execution_count": 17,
   "metadata": {},
   "outputs": [
    {
     "data": {
      "text/plain": [
       "9.504096581627753"
      ]
     },
     "execution_count": 17,
     "metadata": {},
     "output_type": "execute_result"
    }
   ],
   "source": [
    "np.mean(np.random.uniform(0.9,1, size=10) * 10)"
   ]
  },
  {
   "cell_type": "markdown",
   "metadata": {},
   "source": [
    "This distribution can be graphically interpreted as a 2-dimensional plane divided into equal areas. For instance, for 1000 random numbers generated (x-axis) in range [1-1000) (y-axis). Each sub-range on y-axis, e.g. 1-200, 201-400, etc, would receive the same amount of hits with equal probability. The density of dots in the plot below appears uniformly distributed, especially for a larger number of numbers generated."
   ]
  },
  {
   "cell_type": "code",
   "execution_count": 18,
   "metadata": {},
   "outputs": [
    {
     "data": {
      "image/png": "[encoded data removed]",
      "text/plain": [
       "<Figure size 432x288 with 1 Axes>"
      ]
     },
     "metadata": {
      "needs_background": "light"
     },
     "output_type": "display_data"
    }
   ],
   "source": [
    "plt.plot(np.random.uniform(1,1000, size=1000), 'b.')\n",
    "plt.grid()"
   ]
  },
  {
   "cell_type": "markdown",
   "metadata": {},
   "source": [
    "The uniform distribution shows a property to fill out histograms bins uniformly, which becomes clearer for increasing number of samples. In other words, the more samples, the more equally filled is each bin on the histogram."
   ]
  },
  {
   "cell_type": "code",
   "execution_count": 19,
   "metadata": {},
   "outputs": [
    {
     "data": {
      "text/plain": [
       "<function matplotlib.pyplot.show(*args, **kw)>"
      ]
     },
     "execution_count": 19,
     "metadata": {},
     "output_type": "execute_result"
    },
    {
     "data": {
      "image/png": "[encoded data removed]",
      "text/plain": [
       "<Figure size 864x216 with 3 Axes>"
      ]
     },
     "metadata": {
      "needs_background": "light"
     },
     "output_type": "display_data"
    }
   ],
   "source": [
    "plt.figure(figsize=(12,3)) # size of the plot (width, height)\n",
    "\n",
    "plt.subplot(1, 3, 1)\n",
    "plt.hist(np.random.uniform(0,100, size=10**2)) # 100 samples\n",
    "\n",
    "plt.subplot(1, 3, 2)\n",
    "plt.hist(np.random.uniform(0,100, size=10**4)) # 10000 samples\n",
    "\n",
    "plt.subplot(1, 3, 3)\n",
    "plt.hist(np.random.uniform(0,100, size=10**6)) # 1000000 samples\n",
    "\n",
    "plt.show # this command will hide away numeral values of the output - for clarity"
   ]
  },
  {
   "cell_type": "markdown",
   "metadata": {},
   "source": [
    "### 2. Standard normal distribution"
   ]
  },
  {
   "cell_type": "markdown",
   "metadata": {},
   "source": [
    "`numpy.random.standard_normal` draws a standard normal (Gaussian) distribution for mean=0 and deviation=1 (another NumPy distribution, `np.random.normal`, allows to change these parameters). The more samples, the more \"ideal\" shape of the distribution."
   ]
  },
  {
   "cell_type": "code",
   "execution_count": 20,
   "metadata": {},
   "outputs": [
    {
     "name": "stdout",
     "output_type": "stream",
     "text": [
      "Actual minimum:  -3.2296033404502213\n",
      "Actual maximum:  3.1176462706228563\n",
      "Actual mean:  -0.02748926988871613\n",
      "Actual standard diviation:  1.0026155072707397\n"
     ]
    },
    {
     "data": {
      "image/png": "[encoded data removed]",
      "text/plain": [
       "<Figure size 432x288 with 1 Axes>"
      ]
     },
     "metadata": {
      "needs_background": "light"
     },
     "output_type": "display_data"
    }
   ],
   "source": [
    "a = np.random.standard_normal(size=1000) # standard normal distribution generation for n=1000 samples\n",
    "\n",
    "plt.hlines(0,0,1000, colors='r') # baseline \n",
    "plt.grid()\n",
    "plt.plot(a, 'b.')\n",
    "\n",
    "# for reference, actual distribution parameters from the generated set\n",
    "print(\"Actual minimum: \", np.min(a))\n",
    "print(\"Actual maximum: \", np.max(a))\n",
    "print(\"Actual mean: \", np.mean(a))\n",
    "print(\"Actual standard diviation: \", np.std(a))"
   ]
  },
  {
   "cell_type": "code",
   "execution_count": 21,
   "metadata": {},
   "outputs": [
    {
     "data": {
      "text/plain": [
       "(array([  2.,   6.,   6.,  15.,  32.,  35.,  66.,  88., 114., 118., 120.,\n",
       "        124.,  94.,  69.,  51.,  31.,  19.,   5.,   3.,   2.]),\n",
       " array([-3.22960334, -2.91224086, -2.59487838, -2.2775159 , -1.96015342,\n",
       "        -1.64279094, -1.32542846, -1.00806598, -0.6907035 , -0.37334102,\n",
       "        -0.05597853,  0.26138395,  0.57874643,  0.89610891,  1.21347139,\n",
       "         1.53083387,  1.84819635,  2.16555883,  2.48292131,  2.80028379,\n",
       "         3.11764627]),\n",
       " <a list of 20 Patch objects>)"
      ]
     },
     "execution_count": 21,
     "metadata": {},
     "output_type": "execute_result"
    },
    {
     "data": {
      "image/png": "[encoded data removed]",
      "text/plain": [
       "<Figure size 432x288 with 1 Axes>"
      ]
     },
     "metadata": {
      "needs_background": "light"
     },
     "output_type": "display_data"
    }
   ],
   "source": [
    "plt.hist(a, bins=20)"
   ]
  },
  {
   "cell_type": "markdown",
   "metadata": {},
   "source": [
    "### 3. Binomial distribution"
   ]
  },
  {
   "cell_type": "markdown",
   "metadata": {},
   "source": [
    "`np.random.binomial` samples from binomial distribution, where the results are two-folds, often represented as a _success_ or a _failure_. This distribution gives number of successful trials of `n`-total number of trials. Each result has a predefined `p`-probability of success.\n",
    "For a large number of repetition (represented in NumPy by parameter _size_), and equal probability of winning (p=0.5), the result resembles a normal distribution."
   ]
  },
  {
   "cell_type": "code",
   "execution_count": 22,
   "metadata": {},
   "outputs": [
    {
     "data": {
      "text/plain": [
       "array([0, 0, 0, 1, 0, 1, 1, 0, 1, 0])"
      ]
     },
     "execution_count": 22,
     "metadata": {},
     "output_type": "execute_result"
    }
   ],
   "source": [
    "np.random.binomial(1,0.5, size=10) # for 10 attempts, what is the result of the test, 1 - success, 0 - failure"
   ]
  },
  {
   "cell_type": "code",
   "execution_count": 23,
   "metadata": {},
   "outputs": [
    {
     "name": "stdout",
     "output_type": "stream",
     "text": [
      "Actual mean:  5.0104\n",
      "Actual standard diviation:  1.5845793889862383\n"
     ]
    },
    {
     "data": {
      "text/plain": [
       "<function matplotlib.pyplot.show(*args, **kw)>"
      ]
     },
     "execution_count": 23,
     "metadata": {},
     "output_type": "execute_result"
    },
    {
     "data": {
      "image/png": "[encoded data removed]",
      "text/plain": [
       "<Figure size 432x288 with 1 Axes>"
      ]
     },
     "metadata": {
      "needs_background": "light"
     },
     "output_type": "display_data"
    }
   ],
   "source": [
    "a = np.random.binomial(10,0.5, size=10000) # how many success will be in n=10 trials of tossing a 'fair' coin (p=0.5), test repetead 10000 times\n",
    "print(\"Actual mean: \", np.mean(a))\n",
    "print(\"Actual standard diviation: \", np.std(a))\n",
    "plt.hist(a, bins=21) # density of successes in 10-trials binomial tests repeated 10000 times\n",
    "plt.show # this command will hide away numeral values of the output - for clarity"
   ]
  },
  {
   "cell_type": "markdown",
   "metadata": {},
   "source": [
    "### 4. Exponential distribution"
   ]
  },
  {
   "cell_type": "markdown",
   "metadata": {},
   "source": [
    "`numpy.random.exponential` function draws results from exponential distribution. This type of distribution is typically used to calculate the probability of an event occurring in a time interval. It takes two parameters, the first one being the _scale_, which relates to the time period, and the other one - _size_, which is a number of experiments (by default size=10). For example, if independent events are to occur per unit of time (which is a function of parameter _scale_), the exponential distribution describes the time intervals between successive events.  \n",
    "Exponential distribution is a special case of gamma distribution, and is related to Poisson distribution.  \n",
    "Below is an example of the distribution and the graphical interpretation."
   ]
  },
  {
   "cell_type": "code",
   "execution_count": 24,
   "metadata": {},
   "outputs": [
    {
     "data": {
      "text/plain": [
       "<function matplotlib.pyplot.show(*args, **kw)>"
      ]
     },
     "execution_count": 24,
     "metadata": {},
     "output_type": "execute_result"
    },
    {
     "data": {
      "image/png": "[encoded data removed]",
      "text/plain": [
       "<Figure size 432x288 with 1 Axes>"
      ]
     },
     "metadata": {
      "needs_background": "light"
     },
     "output_type": "display_data"
    }
   ],
   "source": [
    "a = np.random.exponential(1, [1000,4]) # the first parameter (scale) relates to time period, the second one (size) - to number of experiments (4 sets of 1000 experiments)\n",
    "plt.hist(a, bins=22) # the values in bins are grouped by sets of experiment, each in represented by different colour\n",
    "plt.show # this command will hide away numeral values of the output - for clarity"
   ]
  },
  {
   "cell_type": "markdown",
   "metadata": {},
   "source": [
    "### 5. Weibull distribution"
   ]
  },
  {
   "cell_type": "markdown",
   "metadata": {},
   "source": [
    "`numpy.random.weibull` subroutine produces results from weilbull distribution. This probability distribution found a numerous applications in technical science. For instance, it is often used in equipment reliability study, e.g. to evaluate mean time between failures (MTBF) - maintenance and reliability related concepts were discussed in the [paper](http://system.logistics-and-transport.eu/index.php/main/article/view/509) I published. \n"
   ]
  },
  {
   "cell_type": "markdown",
   "metadata": {},
   "source": [
    "The function takes two parameters: shape and size.\n",
    "\n",
    "The _shape_ parameter is a positive float number must be greater than one. \n",
    "Its value will dictate the  the slope of the regressed line in probability plot' (Realiawiki), corresponding to certain conditions being simulated. For shape > 1 the probability density distribution resembles normal \n",
    "distribution, but skewed; for shape < 1 it resembles exponential distribution.\n",
    "\n",
    "For example, below is a plot showing the _shape_ value .5, 1.0, 1.5 and 3.0."
   ]
  },
  {
   "cell_type": "code",
   "execution_count": 25,
   "metadata": {},
   "outputs": [
    {
     "name": "stderr",
     "output_type": "stream",
     "text": [
      "/home/ak/anaconda3/lib/python3.7/site-packages/ipykernel_launcher.py:6: RuntimeWarning: divide by zero encountered in power\n",
      "  \n"
     ]
    },
    {
     "data": {
      "image/png": "[encoded data removed]",
      "text/plain": [
       "<Figure size 432x288 with 1 Axes>"
      ]
     },
     "metadata": {
      "needs_background": "light"
     },
     "output_type": "display_data"
    }
   ],
   "source": [
    "# adopted from NumPy documentation, https://docs.scipy.org/doc/numpy-1.16.0/reference/generated/numpy.random.weibull.html#numpy.random.weibull\n",
    "\n",
    "x = np.arange(0, 2, 0.01) # range of x-axis (start, stop, step)\n",
    "\n",
    "def weib(x,a): # a - shape of the weibull distribution\n",
    "    return (a / 1) * (x / 1)**(a - 1) * np.exp(-(x / 1)**a) # scale=1\n",
    "\n",
    "plt.plot(x, weib(x, 0.5), label='shape = 0.5')\n",
    "plt.plot(x, weib(x, 1.0), label='shape = 1.0')\n",
    "plt.plot(x, weib(x, 1.5), label='shape = 1.5')\n",
    "plt.plot(x, weib(x, 3.0), label='shape = 3.0')\n",
    "\n",
    "plt.xlim(0, 2)\n",
    "plt.ylim(0, 2)\n",
    "\n",
    "plt.legend()\n",
    "plt.show()"
   ]
  },
  {
   "cell_type": "markdown",
   "metadata": {},
   "source": [
    "The _size_ parameter represents the how large is the experiment. Below plot illustrate the Weibull density distribution for two sets of experiments, of 500 observations each, discriminated in the plots by colour."
   ]
  },
  {
   "cell_type": "code",
   "execution_count": 26,
   "metadata": {},
   "outputs": [
    {
     "data": {
      "text/plain": [
       "<function matplotlib.pyplot.show(*args, **kw)>"
      ]
     },
     "execution_count": 26,
     "metadata": {},
     "output_type": "execute_result"
    },
    {
     "data": {
      "image/png": "[encoded data removed]",
      "text/plain": [
       "<Figure size 648x288 with 2 Axes>"
      ]
     },
     "metadata": {
      "needs_background": "light"
     },
     "output_type": "display_data"
    }
   ],
   "source": [
    "a = np.random.weibull(2, [500,2]) # the first parameter (shape), the second one (size) - to number of experiments (2 sets of 500 experiments)\n",
    "\n",
    "plt.figure(figsize=(9,4)) # size of the plot (width, height)\n",
    "\n",
    "plt.subplot(1, 2, 1)\n",
    "plt.hist(a, bins=14) # results of the two sets of experiments are represented by differnt colours\n",
    "\n",
    "plt.subplot(1, 2, 2)\n",
    "plt.plot(a, '.')\n",
    "plt.hlines((np.mean(a)),0,500, colors='k') # draws a horizontal line at mean-value for comparison purpose\n",
    "\n",
    "plt.show # this command will hide away numeral values of the output - for clarity"
   ]
  },
  {
   "cell_type": "markdown",
   "metadata": {},
   "source": [
    "___\n",
    "## Seed"
   ]
  },
  {
   "cell_type": "markdown",
   "metadata": {},
   "source": [
    "#### The concept of Pseudo Randomness \n",
    "\n",
    "Randomness is an interesting question in computer science in general, and posses some technical challenges (source: [Quora](https://www.quora.com/Why-is-it-so-hard-to-generate-actually-random-numbers)). \n",
    "\n",
    "In practice, the uncertainty is simulated by application of algorithms. The resulting numbers are obtained in deterministic way. For k various inputs there may be only k possible outputs. There is also a finite amount of computer memory, limiting the calculations. The generated results are not truly random, and so are called pseudo-random. The technique of acquiring a number via such algorithms is referred as to _Pseudo Random Number Generator_ (PRNG). Of course, much effort is put into ensuring the generated results appear satisfactorily random. The algorithms are complex and for most of typical applications, excluding security and cryptography (not discussed here), the simulated randomness is sufficient. \n",
    "\n",
    "Python (and NumPy) uses PRNG the Mersenne Twister algorithm. Below is a short exert from OverStack on the algorithm (source: [StackOverflow](https://stackoverflow.com/a/7030595)). \n",
    "\n",
    ">  [Python and NumPy] both use the Mersenne twister sequence to generate their random numbers, and they're both completely deterministic - that is, if you know a few key bits of information, it's possible to predict with absolute certainty what number will come next. For this reason, neither numpy.random nor random.random is suitable for any serious cryptographic uses. But because the sequence is so very very long, both are fine for generating random numbers in cases where you aren't worried about people trying to reverse-engineer your data. This is also the reason for the necessity to seed the random value - if you start in the same place each time, you'll always get the same sequence of random numbers!"
   ]
  },
  {
   "cell_type": "markdown",
   "metadata": {},
   "source": [
    "\n",
    "#### Seed\n",
    "\n",
    "The above quote gives and insight into the concept of _seed_. It is, essentially, a numeric input, on which the algorithm produces the pseudo-random output. The seed  defines the initial conditions for the generator. If the initial conditions are the same, the result will also be the same. The PRNG, naturally, modifies the value of the seed used on continuous basis. The randomness, often referred as to entropy, is simulated by inputs from the outside, an element of chaos in the natural world. There are various sources of the inputs form the hardware, like mouse movements or the noise generated by a fan [Wikipedia](https://en.wikipedia.org/wiki/Entropy_(computing)).\n",
    "Often, the seed is taken from the system clock. The system clock in Unix-based systems is stored in the form of seconds passed from 1st January 1970. As the passing time is monitored with a high precision (CPU dependent), every time the pseudo-random number that is generated may appear different and random.  "
   ]
  },
  {
   "cell_type": "markdown",
   "metadata": {},
   "source": [
    "#### System clock\n",
    "\n",
    "The current time in seconds passed from 1st January 1970 can be obtained with `time()` method from Python `time` library."
   ]
  },
  {
   "cell_type": "code",
   "execution_count": 27,
   "metadata": {},
   "outputs": [
    {
     "data": {
      "text/plain": [
       "1573254974.599041"
      ]
     },
     "execution_count": 27,
     "metadata": {},
     "output_type": "execute_result"
    }
   ],
   "source": [
    "import time;\n",
    "time.time()"
   ]
  },
  {
   "cell_type": "code",
   "execution_count": 28,
   "metadata": {},
   "outputs": [
    {
     "data": {
      "text/plain": [
       "0.3596255040971841"
      ]
     },
     "execution_count": 28,
     "metadata": {},
     "output_type": "execute_result"
    }
   ],
   "source": [
    "np.random.random()"
   ]
  },
  {
   "cell_type": "markdown",
   "metadata": {},
   "source": [
    "#### Seed reuse\n",
    "\n",
    "Furthermore, as per another [StackOverflow response](https://stackoverflow.com/a/32172816), it is possible to retrieve the _seed_ used with the help of `numpy.random.get_state` method, and hence reproduces the same result. \n",
    "\n",
    "User can pass a value of _seed_ to the random function to control the generated data, for example in order to produce the same output. "
   ]
  },
  {
   "cell_type": "code",
   "execution_count": 29,
   "metadata": {},
   "outputs": [
    {
     "name": "stdout",
     "output_type": "stream",
     "text": [
      "0.417022004702574 0.7203244934421581 0.00011437481734488664 0.30233257263183977 \n",
      "\n",
      "0.417022004702574 0.7203244934421581 0.00011437481734488664 0.30233257263183977 "
     ]
    }
   ],
   "source": [
    "# set seed number\n",
    "np.random.seed(1) # seed = 1\n",
    "# generate pseudo-random numbers\n",
    "for i in range(4):\n",
    "    print(np.random.random(), end=\" \")\n",
    "print(\"\\n\") # new line\n",
    "\n",
    "# use the same seed value again to get the same output\n",
    "np.random.seed(1)\n",
    "# generate pseudo-random numbers\n",
    "for i in range(4):\n",
    "    print(np.random.random(), end=\" \")"
   ]
  },
  {
   "cell_type": "markdown",
   "metadata": {},
   "source": [
    "___\n",
    "## References"
   ]
  },
  {
   "cell_type": "markdown",
   "metadata": {},
   "source": [
    "... "
   ]
  },
  {
   "cell_type": "markdown",
   "metadata": {},
   "source": [
    "\n",
    "## End"
   ]
  }
 ],
 "metadata": {
  "kernelspec": {
   "display_name": "Python 3",
   "language": "python",
   "name": "python3"
  },
  "language_info": {
   "codemirror_mode": {
    "name": "ipython",
    "version": 3
   },
   "file_extension": ".py",
   "mimetype": "text/x-python",
   "name": "python",
   "nbconvert_exporter": "python",
   "pygments_lexer": "ipython3",
   "version": "3.7.5"
  }
 },
 "nbformat": 4,
 "nbformat_minor": 4
}
