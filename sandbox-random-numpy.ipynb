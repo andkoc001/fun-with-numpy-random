{
 "cells": [
  {
   "cell_type": "markdown",
   "metadata": {},
   "source": [
    "# fun-with-numpy-random - sandbox\n",
    "Exploring numpy.random library - a temporary test ground.\n",
    "\n",
    "Programming for Data Analysis, GMIT 2019\n",
    "\n",
    "Lecturer: dr Brian McGinley\n",
    "\n",
    ">Author: **Andrzej Kocielski**  \n",
    ">Github: [andkoc001](https://github.com/andkoc001/)  \n",
    ">Email: G00376291@gmit.ie, and.koc001@gmail.com\n",
    "\n",
    "Created: 16-10-2019"
   ]
  },
  {
   "cell_type": "markdown",
   "metadata": {},
   "source": [
    "## Set up"
   ]
  },
  {
   "cell_type": "raw",
   "metadata": {},
   "source": [
    "Importing libraries"
   ]
  },
  {
   "cell_type": "code",
   "execution_count": 3,
   "metadata": {},
   "outputs": [],
   "source": [
    "import numpy as np\n",
    "import matplotlib.pyplot as plt \n",
    "import pandas as pd  \n",
    "import seaborn as sns \n",
    "\n",
    "# This allows the plots being displayed inside the notebook, rather than in a separate screen.\n",
    "%matplotlib inline"
   ]
  },
  {
   "cell_type": "markdown",
   "metadata": {},
   "source": [
    "## Random sampling"
   ]
  },
  {
   "cell_type": "markdown",
   "metadata": {},
   "source": [
    "### Simple random data\n",
    "\n",
    "Note `np.random.random` is an alias for `np.random.random_sample`"
   ]
  },
  {
   "cell_type": "code",
   "execution_count": 4,
   "metadata": {},
   "outputs": [
    {
     "data": {
      "text/plain": [
       "0.5776462717523824"
      ]
     },
     "execution_count": 4,
     "metadata": {},
     "output_type": "execute_result"
    }
   ],
   "source": [
    "# get a random float number from *uniform distributtion* on [0,1)\n",
    "np.random.random()"
   ]
  },
  {
   "cell_type": "code",
   "execution_count": 32,
   "metadata": {},
   "outputs": [
    {
     "name": "stdout",
     "output_type": "stream",
     "text": [
      "0.3655681049534232\n",
      "0.7564954202713843\n",
      "0.09291827122045726\n",
      "0.9943987954176662\n",
      "0.7653433788570845\n"
     ]
    }
   ],
   "source": [
    "# get 5 random numbers from 0 (inclusive) to 1 (exclusive)\n",
    "for i in range(5):\n",
    "    print(np.random.random())"
   ]
  },
  {
   "cell_type": "code",
   "execution_count": 65,
   "metadata": {},
   "outputs": [
    {
     "name": "stdout",
     "output_type": "stream",
     "text": [
      "1 :  0.2342369587659341\n",
      "2 :  0.12594289707682726\n",
      "3 :  0.1754210620824853\n",
      "4 :  0.05062503371133742\n",
      "5 :  0.3586711931911424\n",
      "Average: 0.1889794289655453\n"
     ]
    }
   ],
   "source": [
    "# get 5 random numbers from 0 (inclusive) to 1 (exclusive) and print out avarage of them\n",
    "sum = 0\n",
    "for i in range(5):\n",
    "    x = np.random.random()\n",
    "    sum = sum + x\n",
    "    print(i+1,\": \",x)\n",
    "print(\"Average:\",sum/5)"
   ]
  },
  {
   "cell_type": "code",
   "execution_count": 81,
   "metadata": {},
   "outputs": [
    {
     "data": {
      "text/plain": [
       "array([0.44313538, 0.59712914, 0.6448731 , 0.17447487, 0.38135937])"
      ]
     },
     "execution_count": 81,
     "metadata": {},
     "output_type": "execute_result"
    }
   ],
   "source": [
    "# get 5 random numbers [0,1) arranged in an array\n",
    "np.random.random_sample(5)"
   ]
  },
  {
   "cell_type": "code",
   "execution_count": 76,
   "metadata": {},
   "outputs": [
    {
     "data": {
      "text/plain": [
       "array([[0.92378228, 0.19388332, 0.99883698],\n",
       "       [0.06926746, 0.67068679, 0.50861555]])"
      ]
     },
     "execution_count": 76,
     "metadata": {},
     "output_type": "execute_result"
    }
   ],
   "source": [
    "# get an array (shaped with 2 rows and 3 columns) of random numbers\n",
    "np.random.random((2,3)) # double brackets, because this method takes a single value only - in this case a tupel"
   ]
  },
  {
   "cell_type": "code",
   "execution_count": 77,
   "metadata": {},
   "outputs": [
    {
     "data": {
      "text/plain": [
       "numpy.ndarray"
      ]
     },
     "execution_count": 77,
     "metadata": {},
     "output_type": "execute_result"
    }
   ],
   "source": [
    "a = np.random.random((2,3))\n",
    "type(a)"
   ]
  },
  {
   "cell_type": "code",
   "execution_count": 89,
   "metadata": {},
   "outputs": [
    {
     "data": {
      "text/plain": [
       "array([[0.07051494, 0.77203962, 0.96662263],\n",
       "       [0.3041466 , 0.07015579, 0.5948823 ]])"
      ]
     },
     "execution_count": 89,
     "metadata": {},
     "output_type": "execute_result"
    }
   ],
   "source": [
    "# the same result as above, can be achieved using np.random.rand() - reference: https://stackoverflow.com/a/47232184\n",
    "# get an array (shaped with 2 rows and 3 columns) of random numbers\n",
    "np.random.rand(2,3) #  With numpy.random.rand, the length of each dimension of the output array is a separate argument."
   ]
  },
  {
   "cell_type": "code",
   "execution_count": 84,
   "metadata": {},
   "outputs": [],
   "source": [
    "# help(np.random.randint)"
   ]
  },
  {
   "cell_type": "code",
   "execution_count": 58,
   "metadata": {},
   "outputs": [
    {
     "data": {
      "text/plain": [
       "array([1, 3, 1, 2, 0, 0, 3, 0])"
      ]
     },
     "execution_count": 58,
     "metadata": {},
     "output_type": "execute_result"
    }
   ],
   "source": [
    "a = np.random.randint(4, size=8)\n",
    "a\n",
    "# type(a)"
   ]
  },
  {
   "cell_type": "code",
   "execution_count": 62,
   "metadata": {},
   "outputs": [
    {
     "data": {
      "text/plain": [
       "array([[3, 0, 2, 1, 3, 2, 3, 3]])"
      ]
     },
     "execution_count": 62,
     "metadata": {},
     "output_type": "execute_result"
    }
   ],
   "source": [
    "b = np.random.randint(0, 4, (1,8))\n",
    "b\n",
    "# type(b)"
   ]
  },
  {
   "cell_type": "code",
   "execution_count": 63,
   "metadata": {},
   "outputs": [
    {
     "data": {
      "text/plain": [
       "array([[3],\n",
       "       [3],\n",
       "       [0],\n",
       "       [0],\n",
       "       [2],\n",
       "       [1],\n",
       "       [0],\n",
       "       [1]])"
      ]
     },
     "execution_count": 63,
     "metadata": {},
     "output_type": "execute_result"
    }
   ],
   "source": [
    "np.random.randint(0,4, (8,1))"
   ]
  },
  {
   "cell_type": "markdown",
   "metadata": {},
   "source": [
    "**Simple random data:**  \n",
    "rand(d0, d1, ..., dn) Random values in a given shape.  \n",
    "randn(d0, d1, ..., dn) Return a sample (or samples) from the “standard normal” distribution.  \n",
    "randint(low[, high, size, dtype]) Return random integers from low (inclusive) to high (exclusive).  \n",
    "random_sample([size]) Return random floats in the half-open interval [0.0, 1.0).  \n",
    "random([size]) Return random floats in the half-open interval [0.0, 1.0).  \n",
    "ranf([size]) Return random floats in the half-open interval [0.0, 1.0).  \n",
    "sample([size]) Return random floats in the half-open interval [0.0, 1.0).  \n",
    "choice(a[, size, replace, p]) Generates a random sample from a given 1-D array  \n",
    "bytes(length) Return random bytes.  "
   ]
  },
  {
   "cell_type": "code",
   "execution_count": 127,
   "metadata": {},
   "outputs": [
    {
     "data": {
      "text/plain": [
       "array([ 2, -4, -1, -3,  1,  2,  0, -1, -2,  0])"
      ]
     },
     "execution_count": 127,
     "metadata": {},
     "output_type": "execute_result"
    }
   ],
   "source": [
    "np.random.randint(1-5,3, size=10)"
   ]
  },
  {
   "cell_type": "code",
   "execution_count": 163,
   "metadata": {},
   "outputs": [
    {
     "data": {
      "text/plain": [
       "array([0.4283522 , 0.72563786, 0.94239311])"
      ]
     },
     "execution_count": 163,
     "metadata": {},
     "output_type": "execute_result"
    }
   ],
   "source": [
    "np.random.ranf(3)"
   ]
  },
  {
   "cell_type": "code",
   "execution_count": 159,
   "metadata": {},
   "outputs": [
    {
     "data": {
      "text/plain": [
       "array([[0.66638091, 0.281811  , 0.470344  ],\n",
       "       [0.31593002, 0.35025994, 0.9672781 ]])"
      ]
     },
     "execution_count": 159,
     "metadata": {},
     "output_type": "execute_result"
    }
   ],
   "source": [
    "np.random.random((2,3))"
   ]
  },
  {
   "cell_type": "code",
   "execution_count": 15,
   "metadata": {},
   "outputs": [
    {
     "data": {
      "text/plain": [
       "array([[[[[0.93235262, 0.3039091 ],\n",
       "          [0.50304157, 0.06080845]],\n",
       "\n",
       "         [[0.24188326, 0.37909191],\n",
       "          [0.94094891, 0.14109456]]],\n",
       "\n",
       "\n",
       "        [[[0.74097979, 0.9718632 ],\n",
       "          [0.05811432, 0.5600528 ]],\n",
       "\n",
       "         [[0.5213372 , 0.34714916],\n",
       "          [0.25054188, 0.41448392]]]],\n",
       "\n",
       "\n",
       "\n",
       "       [[[[0.78760414, 0.1886975 ],\n",
       "          [0.29335798, 0.40397248]],\n",
       "\n",
       "         [[0.04509335, 0.09948334],\n",
       "          [0.29738838, 0.50418824]]],\n",
       "\n",
       "\n",
       "        [[[0.73594875, 0.82157702],\n",
       "          [0.46727867, 0.82278829]],\n",
       "\n",
       "         [[0.45788953, 0.39551272],\n",
       "          [0.67452259, 0.27006429]]]]])"
      ]
     },
     "execution_count": 15,
     "metadata": {},
     "output_type": "execute_result"
    }
   ],
   "source": [
    "np.random.random((2,2,2,2,2))"
   ]
  },
  {
   "cell_type": "code",
   "execution_count": 16,
   "metadata": {},
   "outputs": [
    {
     "data": {
      "text/plain": [
       "numpy.ndarray"
      ]
     },
     "execution_count": 16,
     "metadata": {},
     "output_type": "execute_result"
    }
   ],
   "source": [
    "type(np.random.randint(1,11, size=3))"
   ]
  },
  {
   "cell_type": "code",
   "execution_count": 24,
   "metadata": {},
   "outputs": [
    {
     "data": {
      "text/plain": [
       "b'\\xeb\\x12\\xe9\\xa2\\x9e0fd+u'"
      ]
     },
     "execution_count": 24,
     "metadata": {},
     "output_type": "execute_result"
    }
   ],
   "source": [
    "np.random.bytes(10)"
   ]
  },
  {
   "cell_type": "code",
   "execution_count": null,
   "metadata": {},
   "outputs": [],
   "source": []
  }
 ],
 "metadata": {
  "kernelspec": {
   "display_name": "Python 3",
   "language": "python",
   "name": "python3"
  },
  "language_info": {
   "codemirror_mode": {
    "name": "ipython",
    "version": 3
   },
   "file_extension": ".py",
   "mimetype": "text/x-python",
   "name": "python",
   "nbconvert_exporter": "python",
   "pygments_lexer": "ipython3",
   "version": "3.7.3"
  }
 },
 "nbformat": 4,
 "nbformat_minor": 2
}
