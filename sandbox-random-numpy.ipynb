{
 "cells": [
  {
   "cell_type": "markdown",
   "metadata": {},
   "source": [
    "# fun-with-numpy-random - sandbox\n",
    "Exploring numpy.random library - a temporary test ground.\n",
    "\n",
    "Programming for Data Analysis, GMIT 2019\n",
    "\n",
    "Lecturer: dr Brian McGinley\n",
    "\n",
    ">Author: **Andrzej Kocielski**  \n",
    ">Github: [andkoc001](https://github.com/andkoc001/)  \n",
    ">Email: G00376291@gmit.ie, and.koc001@gmail.com\n",
    "\n",
    "Created: 16-10-2019"
   ]
  },
  {
   "cell_type": "markdown",
   "metadata": {},
   "source": [
    "## Set up"
   ]
  },
  {
   "cell_type": "raw",
   "metadata": {},
   "source": [
    "Importing libraries"
   ]
  },
  {
   "cell_type": "code",
   "execution_count": 4,
   "metadata": {},
   "outputs": [],
   "source": [
    "import numpy as np\n",
    "import matplotlib.pyplot as plt \n",
    "import pandas as pd  \n",
    "import seaborn as sns \n",
    "\n",
    "# This allows the plots being displayed inside the notebook, rather than in a separate screen.\n",
    "%matplotlib inline"
   ]
  },
  {
   "cell_type": "markdown",
   "metadata": {},
   "source": [
    "## Random sampling"
   ]
  },
  {
   "cell_type": "markdown",
   "metadata": {},
   "source": [
    "### Simple random data\n",
    "\n",
    "Note `np.random.random` is an alias for `np.random.random_sample`"
   ]
  },
  {
   "cell_type": "code",
   "execution_count": 2,
   "metadata": {},
   "outputs": [
    {
     "data": {
      "text/plain": [
       "0.762441521070545"
      ]
     },
     "execution_count": 2,
     "metadata": {},
     "output_type": "execute_result"
    }
   ],
   "source": [
    "# get a random float number from *uniform distributtion* on [0,1)\n",
    "np.random.random()"
   ]
  },
  {
   "cell_type": "code",
   "execution_count": 3,
   "metadata": {},
   "outputs": [
    {
     "name": "stdout",
     "output_type": "stream",
     "text": [
      "0.49531058578622444\n",
      "0.8708591268924919\n",
      "0.5021351701846526\n",
      "0.46495107381511935\n",
      "0.23958752687233054\n"
     ]
    }
   ],
   "source": [
    "# get 5 random numbers from 0 (inclusive) to 1 (exclusive)\n",
    "for i in range(5):\n",
    "    print(np.random.random())"
   ]
  },
  {
   "cell_type": "code",
   "execution_count": 4,
   "metadata": {},
   "outputs": [
    {
     "name": "stdout",
     "output_type": "stream",
     "text": [
      "1 :  0.3637378000560537\n",
      "2 :  0.13649260151572118\n",
      "3 :  0.25981156899183955\n",
      "4 :  0.3393245568215084\n",
      "5 :  0.7401288489085911\n",
      "Average: 0.3678990752587428\n"
     ]
    }
   ],
   "source": [
    "# get 5 random numbers from 0 (inclusive) to 1 (exclusive) and print out avarage of them\n",
    "sum = 0\n",
    "for i in range(5):\n",
    "    x = np.random.random()\n",
    "    sum = sum + x\n",
    "    print(i+1,\": \",x)\n",
    "print(\"Average:\",sum/5)"
   ]
  },
  {
   "cell_type": "code",
   "execution_count": 5,
   "metadata": {},
   "outputs": [
    {
     "data": {
      "text/plain": [
       "array([0.4281843 , 0.90456801, 0.84072027, 0.04115673, 0.53561477])"
      ]
     },
     "execution_count": 5,
     "metadata": {},
     "output_type": "execute_result"
    }
   ],
   "source": [
    "# get 5 random numbers [0,1) arranged in an array\n",
    "np.random.random_sample(5)"
   ]
  },
  {
   "cell_type": "code",
   "execution_count": 6,
   "metadata": {},
   "outputs": [
    {
     "data": {
      "text/plain": [
       "array([[0.87685398, 0.87148571, 0.02401422],\n",
       "       [0.21177224, 0.21880319, 0.93557671]])"
      ]
     },
     "execution_count": 6,
     "metadata": {},
     "output_type": "execute_result"
    }
   ],
   "source": [
    "# get an array (shaped with 2 rows and 3 columns) of random numbers\n",
    "np.random.random((2,3)) # double brackets, because this method takes a single value only - in this case a tupel"
   ]
  },
  {
   "cell_type": "code",
   "execution_count": 7,
   "metadata": {},
   "outputs": [
    {
     "data": {
      "text/plain": [
       "numpy.ndarray"
      ]
     },
     "execution_count": 7,
     "metadata": {},
     "output_type": "execute_result"
    }
   ],
   "source": [
    "a = np.random.random((2,3))\n",
    "type(a)"
   ]
  },
  {
   "cell_type": "code",
   "execution_count": 8,
   "metadata": {},
   "outputs": [
    {
     "data": {
      "text/plain": [
       "array([[0.57802633, 0.08271333, 0.01278082],\n",
       "       [0.27644292, 0.17909797, 0.91493588]])"
      ]
     },
     "execution_count": 8,
     "metadata": {},
     "output_type": "execute_result"
    }
   ],
   "source": [
    "# the same result as above, can be achieved using np.random.rand() - reference: https://stackoverflow.com/a/47232184\n",
    "# get an array (shaped with 2 rows and 3 columns) of random numbers\n",
    "np.random.rand(2,3) #  With numpy.random.rand, the length of each dimension of the output array is a separate argument."
   ]
  },
  {
   "cell_type": "code",
   "execution_count": 9,
   "metadata": {},
   "outputs": [],
   "source": [
    "# help(np.random.randint)"
   ]
  },
  {
   "cell_type": "code",
   "execution_count": 10,
   "metadata": {},
   "outputs": [
    {
     "data": {
      "text/plain": [
       "array([3, 2, 1, 2, 2, 1, 1, 2])"
      ]
     },
     "execution_count": 10,
     "metadata": {},
     "output_type": "execute_result"
    }
   ],
   "source": [
    "a = np.random.randint(4, size=8)\n",
    "a\n",
    "# type(a)"
   ]
  },
  {
   "cell_type": "code",
   "execution_count": 11,
   "metadata": {},
   "outputs": [
    {
     "data": {
      "text/plain": [
       "array([[2, 0, 0, 2, 3, 0, 2, 2]])"
      ]
     },
     "execution_count": 11,
     "metadata": {},
     "output_type": "execute_result"
    }
   ],
   "source": [
    "b = np.random.randint(0, 4, (1,8))\n",
    "b\n",
    "# type(b)"
   ]
  },
  {
   "cell_type": "code",
   "execution_count": 12,
   "metadata": {},
   "outputs": [
    {
     "data": {
      "text/plain": [
       "array([[0],\n",
       "       [0],\n",
       "       [3],\n",
       "       [0],\n",
       "       [0],\n",
       "       [2],\n",
       "       [0],\n",
       "       [2]])"
      ]
     },
     "execution_count": 12,
     "metadata": {},
     "output_type": "execute_result"
    }
   ],
   "source": [
    "np.random.randint(0,4, (8,1))"
   ]
  },
  {
   "cell_type": "markdown",
   "metadata": {},
   "source": [
    "**Simple random data:**  \n",
    "rand(d0, d1, ..., dn) Random values in a given shape.  \n",
    "randn(d0, d1, ..., dn) Return a sample (or samples) from the “standard normal” distribution.  \n",
    "randint(low[, high, size, dtype]) Return random integers from low (inclusive) to high (exclusive).  \n",
    "random_sample([size]) Return random floats in the half-open interval [0.0, 1.0).  \n",
    "random([size]) Return random floats in the half-open interval [0.0, 1.0).  \n",
    "ranf([size]) Return random floats in the half-open interval [0.0, 1.0).  \n",
    "sample([size]) Return random floats in the half-open interval [0.0, 1.0).  \n",
    "choice(a[, size, replace, p]) Generates a random sample from a given 1-D array  \n",
    "bytes(length) Return random bytes.  "
   ]
  },
  {
   "cell_type": "code",
   "execution_count": 13,
   "metadata": {},
   "outputs": [
    {
     "data": {
      "text/plain": [
       "array([-2,  1, -4, -4,  0,  1,  0, -4, -2, -1])"
      ]
     },
     "execution_count": 13,
     "metadata": {},
     "output_type": "execute_result"
    }
   ],
   "source": [
    "np.random.randint(1-5,3, size=10)"
   ]
  },
  {
   "cell_type": "code",
   "execution_count": 14,
   "metadata": {},
   "outputs": [
    {
     "data": {
      "text/plain": [
       "array([0.50249267, 0.10671427, 0.85080116])"
      ]
     },
     "execution_count": 14,
     "metadata": {},
     "output_type": "execute_result"
    }
   ],
   "source": [
    "np.random.ranf(3)"
   ]
  },
  {
   "cell_type": "code",
   "execution_count": 15,
   "metadata": {},
   "outputs": [
    {
     "data": {
      "text/plain": [
       "array([[0.24518192, 0.91251018, 0.34137287],\n",
       "       [0.22107079, 0.07450794, 0.17669159]])"
      ]
     },
     "execution_count": 15,
     "metadata": {},
     "output_type": "execute_result"
    }
   ],
   "source": [
    "np.random.random((2,3))"
   ]
  },
  {
   "cell_type": "code",
   "execution_count": 16,
   "metadata": {},
   "outputs": [
    {
     "data": {
      "text/plain": [
       "array([[[[[0.34056763, 0.7779613 ],\n",
       "          [0.62981123, 0.99591462]],\n",
       "\n",
       "         [[0.51236526, 0.34768383],\n",
       "          [0.53832141, 0.45004677]]],\n",
       "\n",
       "\n",
       "        [[[0.05926075, 0.98215343],\n",
       "          [0.42237788, 0.66010884]],\n",
       "\n",
       "         [[0.92882824, 0.41678871],\n",
       "          [0.22250205, 0.3638589 ]]]],\n",
       "\n",
       "\n",
       "\n",
       "       [[[[0.50711096, 0.8006898 ],\n",
       "          [0.20962223, 0.8006318 ]],\n",
       "\n",
       "         [[0.40637508, 0.827072  ],\n",
       "          [0.99628004, 0.60605087]]],\n",
       "\n",
       "\n",
       "        [[[0.15665797, 0.77850671],\n",
       "          [0.52367617, 0.77202675]],\n",
       "\n",
       "         [[0.40844484, 0.03106678],\n",
       "          [0.35605347, 0.0168837 ]]]]])"
      ]
     },
     "execution_count": 16,
     "metadata": {},
     "output_type": "execute_result"
    }
   ],
   "source": [
    "np.random.random((2,2,2,2,2))"
   ]
  },
  {
   "cell_type": "code",
   "execution_count": 17,
   "metadata": {},
   "outputs": [
    {
     "data": {
      "text/plain": [
       "numpy.ndarray"
      ]
     },
     "execution_count": 17,
     "metadata": {},
     "output_type": "execute_result"
    }
   ],
   "source": [
    "type(np.random.randint(1,11, size=3))"
   ]
  },
  {
   "cell_type": "code",
   "execution_count": 18,
   "metadata": {},
   "outputs": [
    {
     "data": {
      "text/plain": [
       "b'\\x98\\x9fC\\xad\\xb2j.09k'"
      ]
     },
     "execution_count": 18,
     "metadata": {},
     "output_type": "execute_result"
    }
   ],
   "source": [
    "np.random.bytes(10)"
   ]
  },
  {
   "cell_type": "code",
   "execution_count": 19,
   "metadata": {},
   "outputs": [
    {
     "name": "stdout",
     "output_type": "stream",
     "text": [
      "1 :  0.5927929698793329\n",
      "2 :  0.023459521117333293\n",
      "3 :  0.8729028155240015\n",
      "4 :  0.08124725994320636\n",
      "5 :  0.9302768636100397\n",
      "Mean: 0.5001358860147828\n"
     ]
    }
   ],
   "source": [
    "# get 5 random numbers from [0,1) and print out avarage of them\n",
    "sum = 0\n",
    "for i in range(5):\n",
    "    x = np.random.random()\n",
    "    sum = sum + x\n",
    "    print(i+1,\": \",x)\n",
    "print(\"Mean:\",sum/5)"
   ]
  },
  {
   "cell_type": "code",
   "execution_count": 20,
   "metadata": {},
   "outputs": [],
   "source": [
    "# help(plt)"
   ]
  },
  {
   "cell_type": "markdown",
   "metadata": {},
   "source": [
    "___\n",
    "Distributions"
   ]
  },
  {
   "cell_type": "markdown",
   "metadata": {},
   "source": [
    "Uniform distro"
   ]
  },
  {
   "cell_type": "code",
   "execution_count": 11,
   "metadata": {},
   "outputs": [
    {
     "data": {
      "text/plain": [
       "array([8.89358211, 7.98477485, 3.08556764, 4.43598755, 2.18766728,\n",
       "       4.13872217, 1.54145762, 1.36548311, 9.07300869, 3.83572281,\n",
       "       1.61949954, 1.11927767, 6.59493174, 6.65908624, 9.26589342,\n",
       "       7.20164035, 4.19790895, 3.5951823 , 4.17447491, 5.13931066,\n",
       "       1.86392329, 5.93539324, 1.08968595, 3.37318187, 2.02533845,\n",
       "       1.99069139, 5.58646408, 1.78694146, 2.31204665, 4.49829041,\n",
       "       9.16867288, 4.10055629, 8.0084133 , 7.6799755 , 2.9317951 ,\n",
       "       9.55059193, 3.21014273, 9.19967034, 4.09765676, 7.62474327,\n",
       "       4.76952957, 9.33652885, 4.016531  , 5.49078782, 4.77174973,\n",
       "       3.88407706, 8.31848209, 2.15024783, 5.31782981, 7.55466692,\n",
       "       6.76766202, 3.46402625, 5.30542711, 7.31318139, 7.63001516,\n",
       "       1.91906343, 6.04151396, 3.59075649, 4.02671098, 8.98148045,\n",
       "       9.09223129, 5.70898656, 8.68810561, 2.46646551, 5.16192595,\n",
       "       1.90237321, 9.01471215, 8.78468589, 4.61967177, 5.42283404,\n",
       "       9.05772106, 8.6512873 , 3.08015172, 6.41420111, 2.40764419,\n",
       "       5.67373965, 5.75672076, 2.87229463, 8.73528711, 2.3906483 ,\n",
       "       6.92054428, 2.11386243, 2.51203899, 7.79833494, 7.04301604,\n",
       "       4.98656861, 1.14545911, 9.69592705, 9.11666857, 2.53092762,\n",
       "       2.4480708 , 2.18286311, 5.67373177, 9.49753587, 1.50541411,\n",
       "       4.77131082, 3.34986049, 7.8660806 , 5.14671364, 1.7718835 ])"
      ]
     },
     "execution_count": 11,
     "metadata": {},
     "output_type": "execute_result"
    }
   ],
   "source": [
    "np.random.uniform(1,10, size=100)"
   ]
  },
  {
   "cell_type": "code",
   "execution_count": 6,
   "metadata": {},
   "outputs": [
    {
     "data": {
      "image/png": "[encoded data removed]",
      "text/plain": [
       "<Figure size 432x288 with 1 Axes>"
      ]
     },
     "metadata": {
      "needs_background": "light"
     },
     "output_type": "display_data"
    }
   ],
   "source": [
    "plt.plot(np.random.uniform(0,100, size=100), 'g.')\n",
    "plt.grid()"
   ]
  },
  {
   "cell_type": "markdown",
   "metadata": {},
   "source": [
    "Plotting random distribution vs normal distribution"
   ]
  },
  {
   "cell_type": "code",
   "execution_count": 46,
   "metadata": {},
   "outputs": [
    {
     "name": "stderr",
     "output_type": "stream",
     "text": [
      "/home/ak/anaconda3/lib/python3.7/site-packages/ipykernel_launcher.py:2: RuntimeWarning: invalid value encountered in true_divide\n",
      "  \n",
      "/home/ak/anaconda3/lib/python3.7/site-packages/ipykernel_launcher.py:3: RuntimeWarning: invalid value encountered in true_divide\n",
      "  This is separate from the ipykernel package so we can avoid doing imports until\n"
     ]
    },
    {
     "data": {
      "image/png": "[encoded data removed]",
      "text/plain": [
       "<Figure size 432x288 with 2 Axes>"
      ]
     },
     "metadata": {
      "needs_background": "light"
     },
     "output_type": "display_data"
    }
   ],
   "source": [
    "x = np.arange(0.0, 10.1, 0.1) # set range of x values for plotting\n",
    "\n",
    "y1 = x/x # constant horizontal line against x - will be used for showing random noise\n",
    "y2 = x/x # - will be used for showing normal noise, offset from y1 by 4 units\n",
    "\n",
    "noise_random = np.random.random(size=(len(x)))-0.5 # random noise in on (0,1] and offset by half of the range to centralise about the base line\n",
    "noise_normal = np.random.normal(0.0, 0.5, len(x)) # normal distribution of noise\n",
    "\n",
    "# Uniform distribution\n",
    "plt.subplot(1, 2, 1)\n",
    "plt.plot(x, y1, 'g-') # baseline for random distribution noise\n",
    "plt.plot(x, y1 + noise_random, 'gx') # green x-es denote random noise value for each sample\n",
    "\n",
    "# Normal distribution\n",
    "plt.subplot(1, 2, 2)\n",
    "plt.plot(x, y2, 'b-') # baseline for normal distribution noise\n",
    "plt.plot(x, y2 + noise_normal, 'bx') # blue x-es denote normal noise value for each sample\n",
    "\n",
    "plt.show()\n",
    "\n",
    "# note there are diffrent y-axis for both plots below"
   ]
  },
  {
   "cell_type": "code",
   "execution_count": 50,
   "metadata": {},
   "outputs": [
    {
     "name": "stderr",
     "output_type": "stream",
     "text": [
      "/home/ak/anaconda3/lib/python3.7/site-packages/ipykernel_launcher.py:6: RuntimeWarning: invalid value encountered in true_divide\n",
      "  \n",
      "/home/ak/anaconda3/lib/python3.7/site-packages/ipykernel_launcher.py:7: RuntimeWarning: invalid value encountered in true_divide\n",
      "  import sys\n"
     ]
    },
    {
     "data": {
      "image/png": "[encoded data removed]",
      "text/plain": [
       "<Figure size 432x288 with 2 Axes>"
      ]
     },
     "metadata": {
      "needs_background": "light"
     },
     "output_type": "display_data"
    }
   ],
   "source": [
    "# two plots with shared y-axes\n",
    "fig, [ax1, ax2] = plt.subplots(1, 2, sharey=True, figsize=(6, 4))\n",
    "\n",
    "x = np.arange(0.0, 10.1, 0.1) # set range of x values for plotting\n",
    "\n",
    "y1 = x/x # constant horizontal line against x - will be used for showing random noise\n",
    "y2 = x/x # - will be used for showing normal noise, offset from y1 by 4 units\n",
    "\n",
    "noise_random = np.random.random(size=(len(x)))-0.5 # random noise in on (0,1] and offset by 0.5 of the range to centralise about the base line, at y=1\n",
    "noise_normal = np.random.normal(0.0, 0.5, len(x)) # normal distribution of noise\n",
    "\n",
    "#ax1=plt.subplot(1, 2, 1)\n",
    "ax1.plot(x, y1, 'g-') # baseline for random distribution noise\n",
    "ax1.plot(x, y1 + noise_random, 'gx') # green x-es denote random noise value for each sample\n",
    "\n",
    "#ax2=plt.subplot(1, 2, 2)\n",
    "ax2.plot(x, y2, 'b-') # baseline for normal distribution noise\n",
    "ax2.plot(x, y2 + noise_normal, 'bx') # blue x-es denote normal noise value for each sample\n",
    "\n",
    "plt.show()"
   ]
  },
  {
   "cell_type": "markdown",
   "metadata": {},
   "source": [
    "np.random.random vs np.random.uniform"
   ]
  },
  {
   "cell_type": "code",
   "execution_count": 22,
   "metadata": {},
   "outputs": [
    {
     "name": "stdout",
     "output_type": "stream",
     "text": [
      "0.06230401344805381\n",
      "0.30833481226884973\n"
     ]
    }
   ],
   "source": [
    "ran = np.random.random()\n",
    "uni = np.random.uniform()\n",
    "\n",
    "print(ran)\n",
    "print(uni)"
   ]
  },
  {
   "cell_type": "code",
   "execution_count": 23,
   "metadata": {},
   "outputs": [
    {
     "data": {
      "text/plain": [
       "6.539990700376987"
      ]
     },
     "execution_count": 23,
     "metadata": {},
     "output_type": "execute_result"
    }
   ],
   "source": [
    "np.mean(np.random.uniform(0.0,0.1, size=10) * 100)"
   ]
  },
  {
   "cell_type": "code",
   "execution_count": 24,
   "metadata": {},
   "outputs": [
    {
     "data": {
      "text/plain": [
       "623.6650299105958"
      ]
     },
     "execution_count": 24,
     "metadata": {},
     "output_type": "execute_result"
    }
   ],
   "source": [
    "a = np.random.exponential((1000, 10))\n",
    "np.mean(a)"
   ]
  },
  {
   "cell_type": "code",
   "execution_count": 26,
   "metadata": {},
   "outputs": [
    {
     "data": {
      "text/plain": [
       "('MT19937', array([4218998966, 2046160155, 3966513123, 1237680633,  465399211,\n",
       "         312972530,  157144701, 1837642284, 2379890788, 1426892181,\n",
       "        2908477915, 1750418654,   45800092, 2347983302, 4111732464,\n",
       "        2492931524, 1896026221, 3690163521,  699907043, 1335985898,\n",
       "        2342400808, 3533164126, 1106121865, 3241358684, 3282916815,\n",
       "        2008481011, 1427792349,  462132124, 1536071412,  808004864,\n",
       "        2299765755, 1389408584,  330363797, 2746336328, 3648093961,\n",
       "        3262647919, 2409853022, 2668936125, 2865293155, 2314634130,\n",
       "        2214003445, 4126908450, 3657966504, 2809025957, 3346685067,\n",
       "        2208126952, 3293773206, 4280211505, 3983743777,  322200774,\n",
       "          97900598, 3559350983, 3302870332, 2205390406, 4202742508,\n",
       "        2632579066, 3181905697, 1999339270, 3269109323, 3436603575,\n",
       "        2116971143, 3652257136, 4283533503, 1257308057, 1135667966,\n",
       "        2611692006, 1835376107, 1172109341, 2941739797, 3517428614,\n",
       "        2060064400, 1205464784, 2884170193,  707075624, 1426858566,\n",
       "        2741673148,  674762682, 2587834274, 3840020535, 4248257109,\n",
       "        3415348636, 1788047829, 3931523711, 2078821685, 3515291090,\n",
       "        3340394267, 2248657510, 2321957924, 1362382833, 2587815428,\n",
       "         966968248,  507221798, 2610037164, 2201362272, 3812254495,\n",
       "        1994852389,  865890706,  966384067,  682089950, 1995135037,\n",
       "        1162001451, 1285729347, 3952408313, 1904013922,  488461235,\n",
       "        3756913483, 2871500954, 1072533932, 2287259517, 2639644040,\n",
       "         766236510, 3203449326, 1428540523, 1603773562, 1454337894,\n",
       "        1008684905,  895946137, 1020167396, 1993636610, 4074044477,\n",
       "        1179619062, 3935936611, 1067227981, 3986083191, 1253167908,\n",
       "        1577996056, 2899409044, 2688859309, 3366567180, 1426323790,\n",
       "        2081716198, 1953950731, 1148825915, 3221608216, 2355819547,\n",
       "          99158108, 3862895853, 2998879589, 2980139159, 1661239150,\n",
       "        1725523291, 3759725241, 3316347070, 3712307623, 3193778872,\n",
       "        2240893696, 1898085660, 2227554675, 3039777914, 3698861970,\n",
       "        2272686268, 3103400147, 2107993271,  289243195, 3596171624,\n",
       "        2144924846, 2880574299,  432266622, 1976221615, 3624881574,\n",
       "        2812617084, 1076474227, 2111275730, 2823184891, 2922553703,\n",
       "        4209668828, 1878276366, 2309611740, 3064891136, 3109548237,\n",
       "         658661823,  966934920, 3851914370, 3818535547, 2129205515,\n",
       "         979872505,  806839694, 3135217422, 1600186837, 2550255563,\n",
       "        2095372529, 3420578295, 3703715028, 2315036738, 1640806306,\n",
       "        1843967481,   65210830, 1480237403,  804855120, 2100405275,\n",
       "        2736234617,  838613909,  631268153, 3158316518, 1103938814,\n",
       "         553520616,  591462101, 4055656605, 3611353754, 1834651268,\n",
       "        1082860901,  710517183, 1073607691, 1604079734, 1681263203,\n",
       "        3263882775, 2553147567, 1401567956, 1931163842, 3896529361,\n",
       "        3009778160, 2927513759,  301880640, 3069060356, 2492064104,\n",
       "        3951213847, 1671753057, 2772107265,  480725565, 1101830577,\n",
       "        1830666531, 1468999141, 1847111809, 3734699352, 3361464405,\n",
       "         899966206, 2661539418, 3053453313, 1817551360,  959057399,\n",
       "        2587869678, 2878463887, 2887984049, 1526562956, 1208824551,\n",
       "        3554083965, 2454455986, 1428530991, 1104412273, 1722665359,\n",
       "        1243242115, 1278800361, 2091946233, 1028742683, 3627535861,\n",
       "        1586388900, 3226669550, 2343544390, 1454697265, 2872512038,\n",
       "        2513729157, 3928027901, 1839822908, 1680146703, 2008637335,\n",
       "          13185564, 1643651466, 3884610832, 2207502346, 2896751934,\n",
       "        3120807233, 2201244457, 3197824956,  820770398, 2231766847,\n",
       "        4100325055, 3189134711,  796019443, 1950144105,  199618116,\n",
       "         551210319, 3975915045, 2483017498, 2096124257,  790035368,\n",
       "         668907604, 3370707901, 1911003697, 1665927889,  779944276,\n",
       "        4178776534, 2913902403,  387332519, 4071469275, 2256509909,\n",
       "        4043218914, 1988175621,  573807221, 2840597706,  934003243,\n",
       "         339477384, 2840430064,   23819850,  956079927, 1880138539,\n",
       "        2976767216, 4057074147, 3898580520, 3953494261, 2713814508,\n",
       "         271736164, 2891754935,  426210063,  414100931, 1256830259,\n",
       "        3420681855, 1948216140, 1665602746, 4267003999, 1097674566,\n",
       "        2231498858, 1046386563, 3712048859, 3668884910, 3311405660,\n",
       "        4179679885, 3198578508, 3636470603, 2857508065, 3893371754,\n",
       "        1010057710,  936089739, 4046360902, 1096609501,  859161812,\n",
       "        3523435491,  263984752, 1265237108, 1087796391, 1361208002,\n",
       "         570136139, 1322109404, 1125637437,  922464108, 3347048523,\n",
       "        1745774047,  944190173, 2136358497, 2168396108,  606548582,\n",
       "        1309687181, 2811719292, 1527526544,  379559038, 2645892536,\n",
       "        1504671160, 2606453767, 2919696790, 1882607435, 2320840309,\n",
       "        2200359605, 2817766325, 2532720748,  912633061, 4256958152,\n",
       "        3725326986, 2936337189, 3754715116, 1012146040, 2128985235,\n",
       "          60462251,  610977309, 1966173002,  414123454, 2892474125,\n",
       "        2296171484, 2368737231, 3241682025, 4058772785, 2240367381,\n",
       "        4096227171, 2690996900, 3294546111,  121702506,  576858530,\n",
       "         168428860, 3364176116, 3377611449, 2071251679, 3095349998,\n",
       "        2216591135, 1770981636, 3228133489, 3322521935, 1652602982,\n",
       "        3269492811, 3511018321, 3251489691, 3143235183,  425183671,\n",
       "        3189458172, 4218010184,  436405913, 2462602516, 3785162375,\n",
       "        3321331686, 2369232886, 1956693771, 1869210442, 2517841449,\n",
       "         656706178, 2175520668, 3509366947, 1513762631,  514952748,\n",
       "          58050677, 1479969537,  583089099, 3249517474, 3966018456,\n",
       "         416844719, 2249376703, 1577495468, 3053927152, 4146954793,\n",
       "        3770857299, 3705744044,  907283583, 1900696213, 3021039483,\n",
       "        3926671377, 4060823232, 3752596503, 4022613593, 2976794548,\n",
       "        3158874627, 2648121403,  567230517, 1207088719, 2639621250,\n",
       "         123985248, 1576777537, 3513792893, 2558411742,  258833493,\n",
       "        3399856228, 1534600869,  811281063, 3967835499, 1512386095,\n",
       "        2760837630, 3175250345, 1377356964, 2966994334, 1592084531,\n",
       "        2722200097,  825205280, 1306118819, 3910400798, 2749656216,\n",
       "        3500186996,  543609051, 2826790475,  576589812, 1022482413,\n",
       "         731987376,  132445099, 3289052064, 3724985413, 3110661174,\n",
       "         124729392, 2076045563,  139872514,   27126352,  679389029,\n",
       "        2292858407, 1589994505, 2827041480, 3825889162, 1442698507,\n",
       "        1791141394, 1935481804,  474997255,  502516985, 3500941731,\n",
       "         131074201, 2633070517,  230511372,  923365105, 2151495536,\n",
       "        2430668829, 2079902142,  258802605, 2335299448, 1578425583,\n",
       "        3196440531, 1749185769, 2503979282, 3598529401,  236867359,\n",
       "        1253753522, 3193687150, 3214520742, 3819653805, 2238554137,\n",
       "        4104155782, 2526956658, 4270663831,  415161618, 2632159297,\n",
       "        3163863988, 2233796472, 1393360957, 1762671446, 3206725130,\n",
       "         925184339, 3036795641, 1959032497, 2845321707, 3203866886,\n",
       "        2178169584,  268156873, 2516613142, 1714292937, 3178720952,\n",
       "        2722495091,  568882046, 4144709447, 3579932118,  497655116,\n",
       "        2587088662,  715073140,  412079064, 3311419894, 2308098272,\n",
       "        4151935790, 3635076462, 3294363582, 3205225137,  299157124,\n",
       "        1252505871, 3207228747, 3384103044, 2787619511, 1441235136,\n",
       "        1695168312, 4209911643,  911313062, 3252796966, 3633391276,\n",
       "        2197209059, 1836427906, 4229919488, 3254300022, 2308740925,\n",
       "        3425816362, 3302600733,  544044592, 3959039643, 3099869256,\n",
       "        1993985561, 3059548271, 1742572120, 2727579192, 4282887280,\n",
       "        2173596239,  695804988, 4237865816, 1258145253, 3589572550,\n",
       "         183550038, 3545095818, 3588611053, 1695516601, 2177637473,\n",
       "        2312418003,  129393766, 1528912147, 2540475653,  612605663,\n",
       "        2472982141,  948232530, 3249351128, 2872785072, 3738371131,\n",
       "        1285016526,   33024714,  464946769, 1027664804,  865154331,\n",
       "         472301211, 3034512558,  981115789, 2273946887, 1317479561,\n",
       "        2519796529, 1432132087, 2381353777, 2549230332,  538408875,\n",
       "         271725194, 2057083438, 3463915021, 3005847470, 4115941760,\n",
       "        2480683754, 2542111007, 1798814320, 2201292293, 3462642925,\n",
       "        2346091976,  823657427,  937941943, 3616400688, 3330024258,\n",
       "        3556005076, 2248834050, 1145857941, 2793685337, 2777907555,\n",
       "        3362400594, 1822851911, 3632427295, 3882203966, 2561347223,\n",
       "        3078946269, 3954894100, 4063072186,  474973060,  130417595,\n",
       "        1429862844,  217911613,   56192749, 4035704749], dtype=uint32), 78, 1, 0.595142742987519)"
      ]
     },
     "execution_count": 26,
     "metadata": {},
     "output_type": "execute_result"
    }
   ],
   "source": [
    "np.random.get_state()"
   ]
  },
  {
   "cell_type": "code",
   "execution_count": null,
   "metadata": {},
   "outputs": [],
   "source": []
  }
 ],
 "metadata": {
  "kernelspec": {
   "display_name": "Python 3",
   "language": "python",
   "name": "python3"
  },
  "language_info": {
   "codemirror_mode": {
    "name": "ipython",
    "version": 3
   },
   "file_extension": ".py",
   "mimetype": "text/x-python",
   "name": "python",
   "nbconvert_exporter": "python",
   "pygments_lexer": "ipython3",
   "version": "3.7.3"
  }
 },
 "nbformat": 4,
 "nbformat_minor": 2
}
