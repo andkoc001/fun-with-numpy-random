{
 "cells": [
  {
   "cell_type": "markdown",
   "metadata": {},
   "source": [
    "# fun-with-numpy-random - sandbox\n",
    "Exploring numpy.random library - a temporary test ground.\n",
    "\n",
    "Programming for Data Analysis, GMIT 2019\n",
    "\n",
    "Lecturer: dr Brian McGinley\n",
    "\n",
    ">Author: **Andrzej Kocielski**  \n",
    ">Github: [andkoc001](https://github.com/andkoc001/)  \n",
    ">Email: G00376291@gmit.ie, and.koc001@gmail.com\n",
    "\n",
    "Created: 16-10-2019"
   ]
  },
  {
   "cell_type": "markdown",
   "metadata": {},
   "source": [
    "## Set up"
   ]
  },
  {
   "cell_type": "raw",
   "metadata": {},
   "source": [
    "Importing libraries"
   ]
  },
  {
   "cell_type": "code",
   "execution_count": 1,
   "metadata": {},
   "outputs": [],
   "source": [
    "import numpy as np\n",
    "import matplotlib.pyplot as plt \n",
    "import pandas as pd  \n",
    "import seaborn as sns \n",
    "\n",
    "# This allows the plots being displayed inside the notebook, rather than in a separate screen.\n",
    "%matplotlib inline"
   ]
  },
  {
   "cell_type": "markdown",
   "metadata": {},
   "source": [
    "## Getting data points"
   ]
  },
  {
   "cell_type": "markdown",
   "metadata": {},
   "source": [
    "Testing numpy.random package\n",
    "\n",
    "Note `np.random.random` is an alias for `np.random.random_sample`"
   ]
  },
  {
   "cell_type": "code",
   "execution_count": 80,
   "metadata": {},
   "outputs": [
    {
     "data": {
      "text/plain": [
       "0.9326986012131828"
      ]
     },
     "execution_count": 80,
     "metadata": {},
     "output_type": "execute_result"
    }
   ],
   "source": [
    "# get a random float number from *uniform distributtion* on [0,1)\n",
    "np.random.random()"
   ]
  },
  {
   "cell_type": "code",
   "execution_count": 32,
   "metadata": {},
   "outputs": [
    {
     "name": "stdout",
     "output_type": "stream",
     "text": [
      "0.3655681049534232\n",
      "0.7564954202713843\n",
      "0.09291827122045726\n",
      "0.9943987954176662\n",
      "0.7653433788570845\n"
     ]
    }
   ],
   "source": [
    "# get 5 random numbers from 0 (inclusive) to 1 (exclusive)\n",
    "for i in range(5):\n",
    "    print(np.random.random())"
   ]
  },
  {
   "cell_type": "code",
   "execution_count": 65,
   "metadata": {},
   "outputs": [
    {
     "name": "stdout",
     "output_type": "stream",
     "text": [
      "1 :  0.2342369587659341\n",
      "2 :  0.12594289707682726\n",
      "3 :  0.1754210620824853\n",
      "4 :  0.05062503371133742\n",
      "5 :  0.3586711931911424\n",
      "Average: 0.1889794289655453\n"
     ]
    }
   ],
   "source": [
    "# get 5 random numbers from 0 (inclusive) to 1 (exclusive) and print out avarage of them\n",
    "sum = 0\n",
    "for i in range(5):\n",
    "    x = np.random.random()\n",
    "    sum = sum + x\n",
    "    print(i+1,\": \",x)\n",
    "print(\"Average:\",sum/5)"
   ]
  },
  {
   "cell_type": "code",
   "execution_count": 81,
   "metadata": {},
   "outputs": [
    {
     "data": {
      "text/plain": [
       "array([0.44313538, 0.59712914, 0.6448731 , 0.17447487, 0.38135937])"
      ]
     },
     "execution_count": 81,
     "metadata": {},
     "output_type": "execute_result"
    }
   ],
   "source": [
    "# get 5 random numbers [0,1) arranged in an array\n",
    "np.random.random_sample(5)"
   ]
  },
  {
   "cell_type": "code",
   "execution_count": 88,
   "metadata": {},
   "outputs": [
    {
     "data": {
      "text/plain": [
       "array([[0.42188078, 0.32940493, 0.25277206],\n",
       "       [0.8919418 , 0.89354237, 0.36036188]])"
      ]
     },
     "execution_count": 88,
     "metadata": {},
     "output_type": "execute_result"
    }
   ],
   "source": [
    "# get an array (shaped with 2 rows and 3 columns) of random numbers\n",
    "np.random.random((2,3)) # double brackets, because this method returns tupels as default"
   ]
  },
  {
   "cell_type": "code",
   "execution_count": 89,
   "metadata": {},
   "outputs": [
    {
     "data": {
      "text/plain": [
       "array([[0.07051494, 0.77203962, 0.96662263],\n",
       "       [0.3041466 , 0.07015579, 0.5948823 ]])"
      ]
     },
     "execution_count": 89,
     "metadata": {},
     "output_type": "execute_result"
    }
   ],
   "source": [
    "# the same result as above, can be achieved using np.random.rand() - reference: https://stackoverflow.com/a/47232184\n",
    "# get an array (shaped with 2 rows and 3 columns) of random numbers\n",
    "np.random.rand(2,3) #  With numpy.random.rand, the length of each dimension of the output array is a separate argument."
   ]
  },
  {
   "cell_type": "code",
   "execution_count": null,
   "metadata": {},
   "outputs": [],
   "source": []
  }
 ],
 "metadata": {
  "kernelspec": {
   "display_name": "Python 3",
   "language": "python",
   "name": "python3"
  },
  "language_info": {
   "codemirror_mode": {
    "name": "ipython",
    "version": 3
   },
   "file_extension": ".py",
   "mimetype": "text/x-python",
   "name": "python",
   "nbconvert_exporter": "python",
   "pygments_lexer": "ipython3",
   "version": "3.7.3"
  }
 },
 "nbformat": 4,
 "nbformat_minor": 2
}
