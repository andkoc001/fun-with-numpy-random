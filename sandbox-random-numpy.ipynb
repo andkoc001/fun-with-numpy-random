{
 "cells": [
  {
   "cell_type": "markdown",
   "metadata": {},
   "source": [
    "# fun-with-numpy-random - sandbox\n",
    "Exploring numpy.random library - a temporary test ground.\n",
    "\n",
    "Programming for Data Analysis, GMIT 2019\n",
    "\n",
    "Lecturer: dr Brian McGinley\n",
    "\n",
    ">Author: **Andrzej Kocielski**  \n",
    ">Github: [andkoc001](https://github.com/andkoc001/)  \n",
    ">Email: G00376291@gmit.ie, and.koc001@gmail.com\n",
    "\n",
    "Created: 16-10-2019"
   ]
  },
  {
   "cell_type": "markdown",
   "metadata": {},
   "source": [
    "## Set up"
   ]
  },
  {
   "cell_type": "raw",
   "metadata": {},
   "source": [
    "Importing libraries"
   ]
  },
  {
   "cell_type": "code",
   "execution_count": 2,
   "metadata": {},
   "outputs": [],
   "source": [
    "import numpy as np\n",
    "import matplotlib.pyplot as plt \n",
    "import pandas as pd  \n",
    "import seaborn as sns \n",
    "\n",
    "# This allows the plots being displayed inside the notebook, rather than in a separate screen.\n",
    "%matplotlib inline"
   ]
  },
  {
   "cell_type": "markdown",
   "metadata": {},
   "source": [
    "## Random sampling"
   ]
  },
  {
   "cell_type": "markdown",
   "metadata": {},
   "source": [
    "### Simple random data\n",
    "\n",
    "Note `np.random.random` is an alias for `np.random.random_sample`"
   ]
  },
  {
   "cell_type": "code",
   "execution_count": 2,
   "metadata": {},
   "outputs": [
    {
     "data": {
      "text/plain": [
       "0.16401216351904968"
      ]
     },
     "execution_count": 2,
     "metadata": {},
     "output_type": "execute_result"
    }
   ],
   "source": [
    "# get a random float number from *uniform distributtion* on [0,1)\n",
    "np.random.random()"
   ]
  },
  {
   "cell_type": "code",
   "execution_count": 3,
   "metadata": {},
   "outputs": [
    {
     "name": "stdout",
     "output_type": "stream",
     "text": [
      "0.8147521910082173\n",
      "0.737306797356453\n",
      "0.25229756485561505\n",
      "0.5259861278901503\n",
      "0.19753251385641535\n"
     ]
    }
   ],
   "source": [
    "# get 5 random numbers from 0 (inclusive) to 1 (exclusive)\n",
    "for i in range(5):\n",
    "    print(np.random.random())"
   ]
  },
  {
   "cell_type": "code",
   "execution_count": 4,
   "metadata": {},
   "outputs": [
    {
     "name": "stdout",
     "output_type": "stream",
     "text": [
      "1 :  0.09675746909044736\n",
      "2 :  0.27965391706271336\n",
      "3 :  0.494161078226777\n",
      "4 :  0.6604813104902187\n",
      "5 :  0.9395330339159643\n",
      "Average: 0.49411736175722415\n"
     ]
    }
   ],
   "source": [
    "# get 5 random numbers from 0 (inclusive) to 1 (exclusive) and print out avarage of them\n",
    "sum = 0\n",
    "for i in range(5):\n",
    "    x = np.random.random()\n",
    "    sum = sum + x\n",
    "    print(i+1,\": \",x)\n",
    "print(\"Average:\",sum/5)"
   ]
  },
  {
   "cell_type": "code",
   "execution_count": 5,
   "metadata": {},
   "outputs": [
    {
     "data": {
      "text/plain": [
       "array([0.73246041, 0.61417402, 0.06882014, 0.31413388, 0.74922526])"
      ]
     },
     "execution_count": 5,
     "metadata": {},
     "output_type": "execute_result"
    }
   ],
   "source": [
    "# get 5 random numbers [0,1) arranged in an array\n",
    "np.random.random_sample(5)"
   ]
  },
  {
   "cell_type": "code",
   "execution_count": 6,
   "metadata": {},
   "outputs": [
    {
     "data": {
      "text/plain": [
       "array([[0.30527785, 0.99393612, 0.37522692],\n",
       "       [0.39303585, 0.70366829, 0.60137622]])"
      ]
     },
     "execution_count": 6,
     "metadata": {},
     "output_type": "execute_result"
    }
   ],
   "source": [
    "# get an array (shaped with 2 rows and 3 columns) of random numbers\n",
    "np.random.random((2,3)) # double brackets, because this method takes a single value only - in this case a tupel"
   ]
  },
  {
   "cell_type": "code",
   "execution_count": 7,
   "metadata": {},
   "outputs": [
    {
     "data": {
      "text/plain": [
       "numpy.ndarray"
      ]
     },
     "execution_count": 7,
     "metadata": {},
     "output_type": "execute_result"
    }
   ],
   "source": [
    "a = np.random.random((2,3))\n",
    "type(a)"
   ]
  },
  {
   "cell_type": "code",
   "execution_count": 8,
   "metadata": {},
   "outputs": [
    {
     "data": {
      "text/plain": [
       "array([[0.38943177, 0.87764511, 0.16129819],\n",
       "       [0.51769819, 0.88888985, 0.20950716]])"
      ]
     },
     "execution_count": 8,
     "metadata": {},
     "output_type": "execute_result"
    }
   ],
   "source": [
    "# the same result as above, can be achieved using np.random.rand() - reference: https://stackoverflow.com/a/47232184\n",
    "# get an array (shaped with 2 rows and 3 columns) of random numbers\n",
    "np.random.rand(2,3) #  With numpy.random.rand, the length of each dimension of the output array is a separate argument."
   ]
  },
  {
   "cell_type": "code",
   "execution_count": 9,
   "metadata": {},
   "outputs": [],
   "source": [
    "# help(np.random.randint)"
   ]
  },
  {
   "cell_type": "code",
   "execution_count": 10,
   "metadata": {},
   "outputs": [
    {
     "data": {
      "text/plain": [
       "array([3, 3, 1, 0, 3, 3, 2, 3])"
      ]
     },
     "execution_count": 10,
     "metadata": {},
     "output_type": "execute_result"
    }
   ],
   "source": [
    "a = np.random.randint(4, size=8)\n",
    "a\n",
    "# type(a)"
   ]
  },
  {
   "cell_type": "code",
   "execution_count": 11,
   "metadata": {},
   "outputs": [
    {
     "data": {
      "text/plain": [
       "array([[2, 1, 0, 0, 0, 0, 3, 1]])"
      ]
     },
     "execution_count": 11,
     "metadata": {},
     "output_type": "execute_result"
    }
   ],
   "source": [
    "b = np.random.randint(0, 4, (1,8))\n",
    "b\n",
    "# type(b)"
   ]
  },
  {
   "cell_type": "code",
   "execution_count": 12,
   "metadata": {},
   "outputs": [
    {
     "data": {
      "text/plain": [
       "array([[0],\n",
       "       [2],\n",
       "       [2],\n",
       "       [2],\n",
       "       [2],\n",
       "       [3],\n",
       "       [3],\n",
       "       [1]])"
      ]
     },
     "execution_count": 12,
     "metadata": {},
     "output_type": "execute_result"
    }
   ],
   "source": [
    "np.random.randint(0,4, (8,1))"
   ]
  },
  {
   "cell_type": "markdown",
   "metadata": {},
   "source": [
    "**Simple random data:**  \n",
    "rand(d0, d1, ..., dn) Random values in a given shape.  \n",
    "randn(d0, d1, ..., dn) Return a sample (or samples) from the “standard normal” distribution.  \n",
    "randint(low[, high, size, dtype]) Return random integers from low (inclusive) to high (exclusive).  \n",
    "random_sample([size]) Return random floats in the half-open interval [0.0, 1.0).  \n",
    "random([size]) Return random floats in the half-open interval [0.0, 1.0).  \n",
    "ranf([size]) Return random floats in the half-open interval [0.0, 1.0).  \n",
    "sample([size]) Return random floats in the half-open interval [0.0, 1.0).  \n",
    "choice(a[, size, replace, p]) Generates a random sample from a given 1-D array  \n",
    "bytes(length) Return random bytes.  "
   ]
  },
  {
   "cell_type": "code",
   "execution_count": 13,
   "metadata": {},
   "outputs": [
    {
     "data": {
      "text/plain": [
       "array([ 2, -4, -4, -3,  0,  2, -4, -4, -4, -1])"
      ]
     },
     "execution_count": 13,
     "metadata": {},
     "output_type": "execute_result"
    }
   ],
   "source": [
    "np.random.randint(1-5,3, size=10)"
   ]
  },
  {
   "cell_type": "code",
   "execution_count": 14,
   "metadata": {},
   "outputs": [
    {
     "data": {
      "text/plain": [
       "array([0.75199552, 0.84054914, 0.54053027])"
      ]
     },
     "execution_count": 14,
     "metadata": {},
     "output_type": "execute_result"
    }
   ],
   "source": [
    "np.random.ranf(3)"
   ]
  },
  {
   "cell_type": "code",
   "execution_count": 15,
   "metadata": {},
   "outputs": [
    {
     "data": {
      "text/plain": [
       "array([[0.24610115, 0.10193337, 0.68843783],\n",
       "       [0.94487907, 0.26256634, 0.67416363]])"
      ]
     },
     "execution_count": 15,
     "metadata": {},
     "output_type": "execute_result"
    }
   ],
   "source": [
    "np.random.random((2,3))"
   ]
  },
  {
   "cell_type": "code",
   "execution_count": 16,
   "metadata": {},
   "outputs": [
    {
     "data": {
      "text/plain": [
       "array([[[[[0.52642649, 0.78937743],\n",
       "          [0.28425105, 0.61045491]],\n",
       "\n",
       "         [[0.33756499, 0.39097075],\n",
       "          [0.67184211, 0.31563006]]],\n",
       "\n",
       "\n",
       "        [[[0.67934196, 0.17206383],\n",
       "          [0.36208033, 0.49680932]],\n",
       "\n",
       "         [[0.44993295, 0.12732464],\n",
       "          [0.30212368, 0.45351312]]]],\n",
       "\n",
       "\n",
       "\n",
       "       [[[[0.55216211, 0.89048206],\n",
       "          [0.2191471 , 0.41366214]],\n",
       "\n",
       "         [[0.09424723, 0.76009418],\n",
       "          [0.07495894, 0.9144103 ]]],\n",
       "\n",
       "\n",
       "        [[[0.7502592 , 0.5825368 ],\n",
       "          [0.17841363, 0.15178291]],\n",
       "\n",
       "         [[0.72991433, 0.24456944],\n",
       "          [0.61500903, 0.20431394]]]]])"
      ]
     },
     "execution_count": 16,
     "metadata": {},
     "output_type": "execute_result"
    }
   ],
   "source": [
    "np.random.random((2,2,2,2,2))"
   ]
  },
  {
   "cell_type": "code",
   "execution_count": 17,
   "metadata": {},
   "outputs": [
    {
     "data": {
      "text/plain": [
       "numpy.ndarray"
      ]
     },
     "execution_count": 17,
     "metadata": {},
     "output_type": "execute_result"
    }
   ],
   "source": [
    "type(np.random.randint(1,11, size=3))"
   ]
  },
  {
   "cell_type": "code",
   "execution_count": 18,
   "metadata": {},
   "outputs": [
    {
     "data": {
      "text/plain": [
       "b'\\x96j\\xf7}\\xb5k\\xef*\\xed\\x14'"
      ]
     },
     "execution_count": 18,
     "metadata": {},
     "output_type": "execute_result"
    }
   ],
   "source": [
    "np.random.bytes(10)"
   ]
  },
  {
   "cell_type": "code",
   "execution_count": 19,
   "metadata": {},
   "outputs": [
    {
     "name": "stdout",
     "output_type": "stream",
     "text": [
      "1 :  0.32468121691394725\n",
      "2 :  0.7260879878704525\n",
      "3 :  0.15023982516593914\n",
      "4 :  0.8135856150629558\n",
      "5 :  0.7723398759530374\n",
      "Mean: 0.5573869041932664\n"
     ]
    }
   ],
   "source": [
    "# get 5 random numbers from [0,1) and print out avarage of them\n",
    "sum = 0\n",
    "for i in range(5):\n",
    "    x = np.random.random()\n",
    "    sum = sum + x\n",
    "    print(i+1,\": \",x)\n",
    "print(\"Mean:\",sum/5)"
   ]
  },
  {
   "cell_type": "code",
   "execution_count": 20,
   "metadata": {},
   "outputs": [],
   "source": [
    "# help(plt)"
   ]
  },
  {
   "cell_type": "markdown",
   "metadata": {},
   "source": [
    "### Permutations"
   ]
  },
  {
   "cell_type": "code",
   "execution_count": 4,
   "metadata": {},
   "outputs": [
    {
     "name": "stdout",
     "output_type": "stream",
     "text": [
      "[4 1 4 3 2 4]\n",
      "[1, 2, 3, 4, 4, 4]\n",
      "<class 'numpy.ndarray'>\n",
      "<class 'numpy.ndarray'>\n"
     ]
    }
   ],
   "source": [
    "list_2 = [1,2,3,4,4,4] # list of numbers, note number '4' appears three times here\n",
    "new_list_2 = np.random.permutation(list_2)\n",
    "print(new_list_2) # a new list of permuted original list values\n",
    "print(list_2) # the original list is intact\n",
    "print(type(np.random.permutation(list_2)))\n",
    "print(type(np.random.permutation(new_list_2)))"
   ]
  },
  {
   "cell_type": "code",
   "execution_count": 6,
   "metadata": {},
   "outputs": [
    {
     "data": {
      "text/plain": [
       "array([3, 1, 4, 4, 4, 2])"
      ]
     },
     "execution_count": 6,
     "metadata": {},
     "output_type": "execute_result"
    }
   ],
   "source": [
    "np.random.permutation(list_2)"
   ]
  },
  {
   "cell_type": "code",
   "execution_count": 7,
   "metadata": {},
   "outputs": [
    {
     "name": "stdout",
     "output_type": "stream",
     "text": [
      "[4 3 1 4 2 4]\n"
     ]
    }
   ],
   "source": [
    "new_list_2 = np.random.permutation(list_2)\n",
    "print(new_list_2)"
   ]
  },
  {
   "cell_type": "markdown",
   "metadata": {},
   "source": [
    "___\n",
    "## Distributions"
   ]
  },
  {
   "cell_type": "markdown",
   "metadata": {},
   "source": [
    "### Uniform distro"
   ]
  },
  {
   "cell_type": "code",
   "execution_count": 21,
   "metadata": {},
   "outputs": [
    {
     "data": {
      "text/plain": [
       "array([4.07825301, 8.45759614, 8.17464932, 7.83395434, 8.11745829,\n",
       "       4.27696611, 7.50117848, 6.6354678 , 8.92072027, 8.39069623,\n",
       "       4.10098453, 6.66846705, 1.77122109, 2.00847435, 4.97821906,\n",
       "       5.11377103, 5.60896329, 3.5904869 , 3.1986905 , 2.32986808,\n",
       "       5.24380652, 1.8721038 , 1.21880406, 1.29667088, 9.63461998,\n",
       "       1.32971634, 7.41149461, 5.41020164, 4.16095457, 5.05989109,\n",
       "       8.18477844, 4.04129944, 2.16021757, 8.4337223 , 2.8773816 ,\n",
       "       5.12201698, 2.40248879, 6.08999694, 3.97727166, 9.32504124,\n",
       "       8.9981827 , 5.73376787, 5.41366033, 5.30105349, 6.77659967,\n",
       "       7.71922634, 5.45082017, 4.5948562 , 7.45281928, 2.33621938,\n",
       "       9.81295422, 7.36429923, 3.90665187, 1.56868474, 9.94457885,\n",
       "       9.43495594, 3.11945738, 9.48584088, 4.13377927, 8.87305876,\n",
       "       4.49297489, 1.64328544, 8.43631839, 7.92601793, 3.88316684,\n",
       "       9.4897123 , 3.02349863, 8.28143788, 7.12173802, 5.26206397,\n",
       "       1.93231468, 4.44767818, 3.46133129, 5.04573417, 7.68590836,\n",
       "       6.52317947, 8.68347189, 5.90853797, 2.52073494, 7.76240541,\n",
       "       3.89022748, 4.36546286, 6.53785221, 5.76713318, 8.4636059 ,\n",
       "       4.33902428, 4.98159475, 8.72133371, 2.52165387, 6.89917187,\n",
       "       4.03343763, 2.58241665, 5.94132398, 4.37039976, 2.10119863,\n",
       "       3.1691404 , 3.5318493 , 9.22828484, 7.84546659, 3.66439064])"
      ]
     },
     "execution_count": 21,
     "metadata": {},
     "output_type": "execute_result"
    }
   ],
   "source": [
    "np.random.uniform(1,10, size=100)"
   ]
  },
  {
   "cell_type": "code",
   "execution_count": 22,
   "metadata": {},
   "outputs": [
    {
     "data": {
      "image/png": "[encoded data removed]",
      "text/plain": [
       "<Figure size 432x288 with 1 Axes>"
      ]
     },
     "metadata": {
      "needs_background": "light"
     },
     "output_type": "display_data"
    }
   ],
   "source": [
    "plt.plot(np.random.uniform(0,100, size=100), 'g.')\n",
    "plt.grid()"
   ]
  },
  {
   "cell_type": "markdown",
   "metadata": {},
   "source": [
    "Plotting random distribution vs normal distribution"
   ]
  },
  {
   "cell_type": "code",
   "execution_count": 23,
   "metadata": {},
   "outputs": [
    {
     "name": "stderr",
     "output_type": "stream",
     "text": [
      "/home/ak/anaconda3/lib/python3.7/site-packages/ipykernel_launcher.py:3: RuntimeWarning: invalid value encountered in true_divide\n",
      "  This is separate from the ipykernel package so we can avoid doing imports until\n",
      "/home/ak/anaconda3/lib/python3.7/site-packages/ipykernel_launcher.py:4: RuntimeWarning: invalid value encountered in true_divide\n",
      "  after removing the cwd from sys.path.\n"
     ]
    },
    {
     "data": {
      "image/png": "[encoded data removed]",
      "text/plain": [
       "<Figure size 432x288 with 2 Axes>"
      ]
     },
     "metadata": {
      "needs_background": "light"
     },
     "output_type": "display_data"
    }
   ],
   "source": [
    "x = np.arange(0.0, 10.1, 0.1) # set range of x values for plotting\n",
    "\n",
    "y1 = x/x # constant horizontal line against x - will be used for showing random noise\n",
    "y2 = x/x # - will be used for showing normal noise, offset from y1 by 4 units\n",
    "\n",
    "noise_random = np.random.random(size=(len(x)))-0.5 # random noise in on (0,1] and offset by half of the range to centralise about the base line\n",
    "noise_normal = np.random.normal(0.0, 0.5, len(x)) # normal distribution of noise\n",
    "\n",
    "# Uniform distribution\n",
    "plt.subplot(1, 2, 1)\n",
    "plt.plot(x, y1, 'g-') # baseline for random distribution noise\n",
    "plt.plot(x, y1 + noise_random, 'gx') # green x-es denote random noise value for each sample\n",
    "\n",
    "# Normal distribution\n",
    "plt.subplot(1, 2, 2)\n",
    "plt.plot(x, y2, 'b-') # baseline for normal distribution noise\n",
    "plt.plot(x, y2 + noise_normal, 'bx') # blue x-es denote normal noise value for each sample\n",
    "\n",
    "plt.show()\n",
    "\n",
    "# note there are diffrent y-axis for both plots below"
   ]
  },
  {
   "cell_type": "code",
   "execution_count": 24,
   "metadata": {},
   "outputs": [
    {
     "name": "stderr",
     "output_type": "stream",
     "text": [
      "/home/ak/anaconda3/lib/python3.7/site-packages/ipykernel_launcher.py:6: RuntimeWarning: invalid value encountered in true_divide\n",
      "  \n",
      "/home/ak/anaconda3/lib/python3.7/site-packages/ipykernel_launcher.py:7: RuntimeWarning: invalid value encountered in true_divide\n",
      "  import sys\n"
     ]
    },
    {
     "data": {
      "image/png": "[encoded data removed]",
      "text/plain": [
       "<Figure size 432x288 with 2 Axes>"
      ]
     },
     "metadata": {
      "needs_background": "light"
     },
     "output_type": "display_data"
    }
   ],
   "source": [
    "# two plots with shared y-axes\n",
    "fig, [ax1, ax2] = plt.subplots(1, 2, sharey=True, figsize=(6, 4))\n",
    "\n",
    "x = np.arange(0.0, 10.1, 0.1) # set range of x values for plotting\n",
    "\n",
    "y1 = x/x # constant horizontal line against x - will be used for showing random noise\n",
    "y2 = x/x # - will be used for showing normal noise, offset from y1 by 4 units\n",
    "\n",
    "noise_random = np.random.random(size=(len(x)))-0.5 # random noise in on (0,1] and offset by 0.5 of the range to centralise about the base line, at y=1\n",
    "noise_normal = np.random.normal(0.0, 0.5, len(x)) # normal distribution of noise\n",
    "\n",
    "#ax1=plt.subplot(1, 2, 1)\n",
    "ax1.plot(x, y1, 'g-') # baseline for random distribution noise\n",
    "ax1.plot(x, y1 + noise_random, 'gx') # green x-es denote random noise value for each sample\n",
    "\n",
    "#ax2=plt.subplot(1, 2, 2)\n",
    "ax2.plot(x, y2, 'b-') # baseline for normal distribution noise\n",
    "ax2.plot(x, y2 + noise_normal, 'bx') # blue x-es denote normal noise value for each sample\n",
    "\n",
    "plt.show()"
   ]
  },
  {
   "cell_type": "markdown",
   "metadata": {},
   "source": [
    "np.random.random vs np.random.uniform"
   ]
  },
  {
   "cell_type": "code",
   "execution_count": 25,
   "metadata": {},
   "outputs": [
    {
     "name": "stdout",
     "output_type": "stream",
     "text": [
      "0.9578484776969437\n",
      "0.5514042880958256\n"
     ]
    }
   ],
   "source": [
    "ran = np.random.random()\n",
    "uni = np.random.uniform()\n",
    "\n",
    "print(ran)\n",
    "print(uni)"
   ]
  },
  {
   "cell_type": "code",
   "execution_count": 26,
   "metadata": {},
   "outputs": [
    {
     "data": {
      "text/plain": [
       "5.4701197164541515"
      ]
     },
     "execution_count": 26,
     "metadata": {},
     "output_type": "execute_result"
    }
   ],
   "source": [
    "np.mean(np.random.uniform(0.0,0.1, size=10) * 100)"
   ]
  },
  {
   "cell_type": "code",
   "execution_count": 27,
   "metadata": {},
   "outputs": [
    {
     "data": {
      "text/plain": [
       "40.85062765307283"
      ]
     },
     "execution_count": 27,
     "metadata": {},
     "output_type": "execute_result"
    }
   ],
   "source": [
    "a = np.random.exponential((1000, 10))\n",
    "np.mean(a)"
   ]
  },
  {
   "cell_type": "code",
   "execution_count": 28,
   "metadata": {},
   "outputs": [
    {
     "data": {
      "text/plain": [
       "('MT19937', array([ 795723582, 3030086316,  459963232, 2242497397,  648769752,\n",
       "        2184567508, 3556038079, 2632088883, 3293905253, 3146770178,\n",
       "         892400531, 4253198160, 2686998845, 2881594952, 2738681356,\n",
       "        1688976667, 2499228553, 2766187542,  884406335, 1577089494,\n",
       "        2292925650, 2248930549, 1576722537,  139803497, 1185517780,\n",
       "        2051910403, 1498431548, 1777803656, 2670595151,  544692116,\n",
       "        2052330267, 3841598386, 1287230289, 1562473604, 3685638367,\n",
       "        1385416374,  629840576, 3683847166,  386440145,  921474552,\n",
       "        3394637994, 2880268421, 3021756836, 2741762108, 2914468731,\n",
       "        1795771024, 1632920374, 3896519872, 3633693586, 2401962611,\n",
       "         874000099, 1928630119, 2373707854, 2878755601, 3888893441,\n",
       "        2787526941,  128126962, 3020410738, 3381578156, 3676172709,\n",
       "         119082486, 3227601209, 3777710504, 4147162849, 2765737302,\n",
       "        4149945008,  846759801, 3862720192,  427357282, 4024312479,\n",
       "        2376841506, 1071850437,  963894250, 4289063092, 1236047876,\n",
       "        1009793493, 2819222153, 3036290116, 1817105003, 4146780644,\n",
       "          33598754, 2578327544, 3875471624,  258195680, 3567741088,\n",
       "        1550016534, 3570612798,  247091908, 4228100092, 1574093739,\n",
       "        1108273986,  969281102,  840445401,  585859126, 4030025905,\n",
       "        3873615798, 2980655261,  702785114,  528717817, 3769539189,\n",
       "        2708001335, 3948136572,  441213632,  709505527, 2200493812,\n",
       "        2108095920, 1244786473, 2543292969, 3145985114, 3500979100,\n",
       "        4223167354,  943113396, 3397902923, 3882862807,  344168388,\n",
       "        1445559986, 2953911422, 3474002057,  830143926,  364875588,\n",
       "        2467498759, 3003714268, 2376183629, 1257966158, 1631357767,\n",
       "        2626058611, 3691714524, 2090000390, 1930994908, 3075036997,\n",
       "        2365070480, 2344687452, 3035640443, 2996882411,  455444180,\n",
       "         246710053, 3256403672,  991936635,  453297109, 1985521104,\n",
       "        1189732726,  268788648,  196498425,  918883687, 1098441958,\n",
       "        3040457629, 3895221680, 2051378149,   37851817, 4103730483,\n",
       "        1272322979,   88579163, 1864070915, 1699153909,  224614036,\n",
       "        3055923831, 2723989803, 2665811241,  999088544, 4151431721,\n",
       "        2015204297,   12763936, 3418763157, 3390698228, 3462906332,\n",
       "         631312369, 3441656124,  965052376, 2011441290,  970472492,\n",
       "        2616826904, 1804544311, 2564100941, 3423854619, 1990577711,\n",
       "        3648305613, 2650060600, 3092640927, 1151456996,  596579380,\n",
       "        2044298403, 1029587494, 1799004532,  331642557, 2087076583,\n",
       "        2519651346,  154871746,  303578067, 3474757618, 4120422212,\n",
       "        1234925520, 4065471748,  776306614, 1857774524, 2108407240,\n",
       "        1535168445,  181689384,  372781139, 2578700489, 4040635149,\n",
       "        3765025438, 2636452392, 2120109651, 1604556572,  944196721,\n",
       "        1710471273, 1034597915, 3341797201, 3606125796, 3093399525,\n",
       "        4019453935, 2493658997, 3061733281,  867843897, 3717767827,\n",
       "         685169800, 3515136585, 3911192178, 3224116295, 3416398885,\n",
       "        2726661019, 1759144413, 2584628768, 1068408308, 1095192326,\n",
       "        2569597897, 3614000480, 2180525074, 3830732729, 3321814464,\n",
       "        3065455179,  975581422, 3116581261,  203717579, 2901334425,\n",
       "        1826720842, 2503483248, 2896676257, 2301792919, 3282850502,\n",
       "         390075309,   63565732, 4003166606,  554194642, 2138155106,\n",
       "        3106437987, 2901013102, 1143982377,  523828429,  224147828,\n",
       "        3363362413, 1321112770,  994314311, 4171110049,  695871300,\n",
       "        2355302309, 4081352917, 2221822330, 1901439166, 1355394986,\n",
       "        4192869202, 1252881747, 2839120272,  768477786, 2338091557,\n",
       "        2489425159, 3263817609, 1295846847,   11553425,  733301126,\n",
       "        3854715911, 1170683117, 3784914591, 2958220872, 2328123949,\n",
       "        2712527383,  972231390, 3694428317, 1279936623, 1943992785,\n",
       "        3016537228, 3970224912,  113565798, 2580601267, 1926614219,\n",
       "        3767115123,  171337926, 4221572834, 3872142042, 1739873674,\n",
       "        2403813123, 2084228142, 2595046734, 4128796887, 1790091828,\n",
       "        1305179434, 3221943500, 3127954177,  477828023,  553494700,\n",
       "         819508020, 3872925724, 3779807771, 1512733674, 3040884102,\n",
       "        2023721174,  184435274, 4179425277, 2952608549, 3319358042,\n",
       "        3263382412,  335066501, 4178035146, 1112221137, 1780812601,\n",
       "        1442122198, 2340432023, 4096383258, 2137205583, 2079137016,\n",
       "         195227873,  481522980, 1665640564, 3233408452, 1050090557,\n",
       "        2875940081,  989354217,  589594706,  151419209,  398888649,\n",
       "        1414769217, 1763707238, 2483755461, 3951754779, 3929828603,\n",
       "        3611846774,  608950970, 2089277733, 1895010663, 4083776564,\n",
       "        3083914952, 1711215895, 1980721140, 3362561376, 2810103943,\n",
       "        2238476786, 3348538390, 4134615179, 1510599202,  737521256,\n",
       "         238834179, 3253640646, 2372214270, 2922445318,  495159895,\n",
       "        4080913500, 1582063649, 2532667217, 1603063189, 3866462907,\n",
       "        3379365953, 2359389802, 4077599815, 2460037410, 4279986761,\n",
       "        2759311617, 3921458529, 3862319127, 2728940500, 2641630752,\n",
       "        2387287750, 2456894311, 2712758286,  382385120, 1276299426,\n",
       "        1446831788, 4048067608, 3566954663, 3859070803, 3044166563,\n",
       "         783846355,  694055935, 2796736356, 3649178410,  274713807,\n",
       "         670295163, 2919576568, 1590059109, 3897979728, 1630058021,\n",
       "         945325930, 2581482958, 1331125947,  437573908, 2339618397,\n",
       "        1988540251, 2630518022,  378034283, 1376680772, 2677955828,\n",
       "         550134152, 2905146083,  415248179, 1796928581, 3587096794,\n",
       "        4027254358, 3556470281, 1874650926, 4034273267, 1670508113,\n",
       "        2608159689,  589864466, 1435338244, 1643632253,  100090006,\n",
       "        3684413009, 2049388247, 3324698743, 2860035323, 3065463327,\n",
       "        1146552984, 1894746784, 2968810355,  586178882, 4150378906,\n",
       "        4042102321, 1422943735,  222135957, 3734978296, 1941713313,\n",
       "        3678060016, 4065611785, 2103991487, 2571051776,  699433631,\n",
       "        1934835781,  276346491, 1130130486,  641924039,  221390396,\n",
       "         149056059,  885233121, 1374847504, 3533764179, 4067420634,\n",
       "        1978547002, 2207342956, 3307800520, 3217675186, 4040812568,\n",
       "        1735800233, 3283512796, 2563226858, 1841778209, 4247647843,\n",
       "         215441403, 1039006260, 4081482298, 2359998895, 2546563805,\n",
       "        2746615674, 2894436548, 3112792673, 1489392007, 3827901820,\n",
       "        4051640649,   48061927,  507909465, 1262117104, 3012070014,\n",
       "        3221586882, 3983032209, 1107086725, 4089226219, 3922608037,\n",
       "        1989691388,  927389519, 1030210355, 1022678505, 1005220521,\n",
       "        1136076121,  354388060, 3197387051, 3612398733, 2204233362,\n",
       "        4023299060, 1944530942,  860578386, 1439627947, 2403129941,\n",
       "        1719948703, 3377245348, 4273026070, 1185322119,  278280523,\n",
       "         826989470, 1288045171, 3584280267, 3238575033, 4184394423,\n",
       "         887808981, 2907980427, 1717416017, 1993614767, 3045697422,\n",
       "        2922322963, 2984764078,  135023242, 1435338948, 1101360516,\n",
       "        3495642765, 3946944386, 2905156434, 1773731504, 3586965681,\n",
       "        2096105171,  548440447, 1631918849,   41018819, 3979049586,\n",
       "        3709081521, 3063713086, 3933949033,  678939690, 2710335970,\n",
       "         832196199, 2409495157, 3749546466,  435216050, 1641444098,\n",
       "        2886741373,  411490832, 3418297566, 1777325383, 2107986816,\n",
       "         691136769, 3727250192, 2020246964, 3389571592, 2772132767,\n",
       "        4087124832, 3722709742, 1613881753, 2731024075, 3912896232,\n",
       "          17163791, 1843783857, 2931541389,  769541427, 1315454777,\n",
       "        2256219445, 2225143436, 2035336700, 3018168069, 1390537773,\n",
       "        4263197199, 2885987080,  934095301, 3468270573, 1006717404,\n",
       "        2221619317,  635139160, 4082403835,  139213402, 3062589023,\n",
       "        3053548958, 1092021039, 3837464034,  814134177, 3556132041,\n",
       "        3462671511, 4136148493, 1400018634, 4071644868, 3922234521,\n",
       "        3940898406, 3999670509, 1036434399, 1417796468, 1741637503,\n",
       "        1495242042, 2199835092,  217918424, 1217052072, 2786208770,\n",
       "        2646684247, 1090515138, 2611582754, 1673908376, 1508295609,\n",
       "        4282003721, 3036993287, 3080221665,  728792642,  947353019,\n",
       "        1285426631, 1724027262, 2177991838, 1084450500, 4110879852,\n",
       "        2152267151, 2984140735, 4049585458,  317286809,  577433264,\n",
       "         485692889, 1222456933,   11159998, 3295795558, 3370667352,\n",
       "        1476664017, 2409863622, 3851520810,  535758028, 2329875821,\n",
       "        1772193697,  177420543, 1083653635, 3095563075, 3926206124,\n",
       "        1307389260, 3292656469, 3599679785, 2340185753], dtype=uint32), 327, 0, 0.0)"
      ]
     },
     "execution_count": 28,
     "metadata": {},
     "output_type": "execute_result"
    }
   ],
   "source": [
    "np.random.get_state()"
   ]
  },
  {
   "cell_type": "markdown",
   "metadata": {},
   "source": [
    "#### standard normal distro"
   ]
  },
  {
   "cell_type": "code",
   "execution_count": 13,
   "metadata": {},
   "outputs": [
    {
     "data": {
      "image/png": "[encoded data removed]",
      "text/plain": [
       "<Figure size 432x288 with 1 Axes>"
      ]
     },
     "metadata": {
      "needs_background": "light"
     },
     "output_type": "display_data"
    },
    {
     "data": {
      "image/png": "[encoded data removed]",
      "text/plain": [
       "<Figure size 432x288 with 1 Axes>"
      ]
     },
     "metadata": {
      "needs_background": "light"
     },
     "output_type": "display_data"
    }
   ],
   "source": [
    "# verbatim from https://stackoverflow.com/a/10138381\n",
    "\n",
    "from scipy.stats import norm\n",
    "\n",
    "# Plot between -10 and 10 with .001 steps.\n",
    "x_axis = np.arange(-5, 5, 0.01)\n",
    "# Mean = 0, SD = 2.\n",
    "plt.plot(x_axis, norm.pdf(x_axis,0,2))\n",
    "plt.show()\n",
    "\n",
    "# histogram\n",
    "a = np.random.standard_normal(size=1000)\n",
    "plt.hist(a, bins=20)\n",
    "\n",
    "plt.show()\n",
    "\n"
   ]
  },
  {
   "cell_type": "code",
   "execution_count": null,
   "metadata": {},
   "outputs": [],
   "source": []
  },
  {
   "cell_type": "code",
   "execution_count": 42,
   "metadata": {},
   "outputs": [
    {
     "data": {
      "image/png": "[encoded data removed]",
      "text/plain": [
       "<Figure size 432x288 with 1 Axes>"
      ]
     },
     "metadata": {
      "needs_background": "light"
     },
     "output_type": "display_data"
    }
   ],
   "source": [
    "# From https://docs.scipy.org/doc/scipy-0.14.0/reference/generated/scipy.stats.norm.html\n",
    "\n",
    "from scipy.stats import norm\n",
    "import matplotlib.pyplot as plt\n",
    "fig, ax = plt.subplots(1, 1)\n",
    "#Calculate a few first moments:\n",
    "\n",
    "\n",
    "mean, var, skew, kurt = norm.stats(moments='mvsk')\n",
    "#Display the probability density function (pdf):\n",
    "\n",
    "\n",
    "x = np.linspace(norm.ppf(0.01), norm.ppf(0.99), 100)\n",
    "ax.plot(x, norm.pdf(x), 'r-', lw=5, alpha=0.6, label='norm pdf')\n",
    "#Alternatively, freeze the distribution and display the frozen pdf:\n",
    "\n",
    "\n",
    "rv = norm()\n",
    "ax.plot(x, rv.pdf(x), 'k-', lw=2, label='frozen pdf')\n",
    "#Check accuracy of cdf and ppf:\n",
    "\n",
    "\n",
    "vals = norm.ppf([0.001, 0.5, 0.999])\n",
    "np.allclose([0.001, 0.5, 0.999], norm.cdf(vals))\n",
    "\n",
    "#Generate random numbers:\n",
    "\n",
    "\n",
    "r = norm.rvs(size=1000)\n",
    "#And compare the histogram:\n",
    "\n",
    "\n",
    "ax.hist(r, normed=True, histtype='stepfilled', alpha=0.2)\n",
    "ax.legend(loc='best', frameon=False)\n",
    "plt.show()"
   ]
  },
  {
   "cell_type": "code",
   "execution_count": null,
   "metadata": {},
   "outputs": [],
   "source": []
  }
 ],
 "metadata": {
  "kernelspec": {
   "display_name": "Python 3",
   "language": "python",
   "name": "python3"
  },
  "language_info": {
   "codemirror_mode": {
    "name": "ipython",
    "version": 3
   },
   "file_extension": ".py",
   "mimetype": "text/x-python",
   "name": "python",
   "nbconvert_exporter": "python",
   "pygments_lexer": "ipython3",
   "version": "3.7.5"
  }
 },
 "nbformat": 4,
 "nbformat_minor": 4
}
